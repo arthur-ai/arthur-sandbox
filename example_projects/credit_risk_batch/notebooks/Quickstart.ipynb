{
 "cells": [
  {
   "cell_type": "code",
   "execution_count": 45,
   "metadata": {
    "scrolled": true
   },
   "outputs": [],
   "source": [
    "from arthurai import ArthurAI, ModelType, InputType, Stage\n",
    "import numpy as np\n",
    "import joblib\n",
    "import datetime\n",
    "import time\n",
    "import pandas as pd"
   ]
  },
  {
   "cell_type": "code",
   "execution_count": null,
   "metadata": {
    "scrolled": true
   },
   "outputs": [],
   "source": [
    "import sys\n",
    "sys.path.append(\"..\")\n",
    "from model_utils import transformations, load_datasets"
   ]
  },
  {
   "cell_type": "markdown",
   "metadata": {},
   "source": [
    "In this guide, we'll use the credit dataset (and a pre-trained model) to onboard a new model to the Arthur platform. We'll walk through registering the model using a sample of the training data. "
   ]
  },
  {
   "cell_type": "markdown",
   "metadata": {},
   "source": [
    "#### Set up connection\n",
    "Supply your API Key below to autheticate with the platform."
   ]
  },
  {
   "cell_type": "code",
   "execution_count": null,
   "metadata": {
    "scrolled": true
   },
   "outputs": [],
   "source": [
    "URL = \"dashboard.arthur.ai\"\n",
    "ACCESS_KEY = \"...\"\n",
    "\n",
    "config = {\"url\": URL, \"access_key\":ACCESS_KEY}\n",
    "connection = ArthurAI(config)"
   ]
  },
  {
   "cell_type": "markdown",
   "metadata": {},
   "source": [
    "## Create Model"
   ]
  },
  {
   "cell_type": "markdown",
   "metadata": {},
   "source": [
    "We'll instantiate a model object with a small amount of metadata about the model input and output types. Then, we'll use a sample of the training data to register the full data schema for this Tabular model."
   ]
  },
  {
   "cell_type": "code",
   "execution_count": null,
   "metadata": {
    "scrolled": true
   },
   "outputs": [],
   "source": [
    "arthur_model = connection.model(name=\"CreditRiskModel_test_v1.0.07\",\n",
    "                               input_type=InputType.Tabular,\n",
    "                               model_type=ModelType.Multiclass,\n",
    "                               is_batch=True)"
   ]
  },
  {
   "cell_type": "code",
   "execution_count": null,
   "metadata": {
    "scrolled": true
   },
   "outputs": [],
   "source": [
    "(X_train, Y_train), (X_test, Y_test) = load_datasets(\"../fixtures/datasets/credit_card_default.csv\")"
   ]
  },
  {
   "cell_type": "code",
   "execution_count": null,
   "metadata": {},
   "outputs": [],
   "source": [
    "Y_train.head()"
   ]
  },
  {
   "cell_type": "code",
   "execution_count": null,
   "metadata": {},
   "outputs": [],
   "source": [
    "X_train.head()"
   ]
  },
  {
   "cell_type": "code",
   "execution_count": null,
   "metadata": {
    "scrolled": true
   },
   "outputs": [],
   "source": [
    "arthur_model.from_dataframe(X_train, Stage.ModelPipelineInput)\n",
    "arthur_model.from_dataframe(Y_train, Stage.GroundTruth)\n",
    "arthur_model.set_positive_class(1)"
   ]
  },
  {
   "cell_type": "markdown",
   "metadata": {},
   "source": [
    "Before saving, you can review a model to make sure everything is correct."
   ]
  },
  {
   "cell_type": "code",
   "execution_count": null,
   "metadata": {
    "scrolled": true
   },
   "outputs": [],
   "source": [
    "arthur_model.review_model()"
   ]
  },
  {
   "cell_type": "code",
   "execution_count": null,
   "metadata": {
    "scrolled": true
   },
   "outputs": [],
   "source": [
    "arthur_model.save()"
   ]
  },
  {
   "cell_type": "markdown",
   "metadata": {},
   "source": [
    "### Setting baseline data\n",
    "For tracking data drift, you can upload a dataset to serve as the baseline or reference set. Often, this is a sample of your training data for the associated model. With batch models, we upload a reference set as a parquet file. If your data is in another format, you can use pandas to easily generate parquet."
   ]
  },
  {
   "cell_type": "code",
   "execution_count": null,
   "metadata": {},
   "outputs": [],
   "source": [
    "X_train.to_parquet(\"./training_sample.parquet\", index=False)"
   ]
  },
  {
   "cell_type": "markdown",
   "metadata": {},
   "source": [
    "Point to a directory which contains one or more parquet files. All parquet files will be uploaded and joined to form the reference set."
   ]
  },
  {
   "cell_type": "code",
   "execution_count": null,
   "metadata": {},
   "outputs": [],
   "source": [
    "arthur_model.set_reference_data(directory_path=\".\",  stage=Stage.ModelPipelineInput)"
   ]
  },
  {
   "cell_type": "markdown",
   "metadata": {},
   "source": [
    "## Sending Batches of Inferences"
   ]
  },
  {
   "cell_type": "markdown",
   "metadata": {},
   "source": [
    "Load test data and trained model. Let's familiarize ourselves with the data and the model.\n"
   ]
  },
  {
   "cell_type": "code",
   "execution_count": 15,
   "metadata": {
    "scrolled": true
   },
   "outputs": [],
   "source": [
    "X_test.shape\n",
    "sk_model = joblib.load(\"../fixtures/serialized_models/credit_model.pkl\")"
   ]
  },
  {
   "cell_type": "code",
   "execution_count": 16,
   "metadata": {},
   "outputs": [
    {
     "data": {
      "text/plain": [
       "RandomForestClassifier(bootstrap=True, class_weight=None, criterion='gini',\n",
       "                       max_depth=15, max_features='auto', max_leaf_nodes=None,\n",
       "                       min_impurity_decrease=0.0, min_impurity_split=None,\n",
       "                       min_samples_leaf=1, min_samples_split=2,\n",
       "                       min_weight_fraction_leaf=0.0, n_estimators=500,\n",
       "                       n_jobs=None, oob_score=False, random_state=None,\n",
       "                       verbose=0, warm_start=False)"
      ]
     },
     "execution_count": 16,
     "metadata": {},
     "output_type": "execute_result"
    }
   ],
   "source": [
    "sk_model"
   ]
  },
  {
   "cell_type": "code",
   "execution_count": 18,
   "metadata": {},
   "outputs": [
    {
     "data": {
      "text/plain": [
       "array([0.93286639, 0.06713361])"
      ]
     },
     "execution_count": 18,
     "metadata": {},
     "output_type": "execute_result"
    }
   ],
   "source": [
    "sk_model.predict_proba(X_train.iloc[0:1, :])[0]"
   ]
  },
  {
   "cell_type": "markdown",
   "metadata": {},
   "source": [
    "We'll again use parquet files to upload batches of inferences. Each batch should be designated by a directory which contains one or more parquet files. "
   ]
  },
  {
   "cell_type": "markdown",
   "metadata": {},
   "source": [
    "There are a couple columns in the parquet that we should take special note of. First, each inference needs a unique identifier so that it can later be joined with ground truth. Include a column named \"external_id\" and ensure these IDs are unique across batches. For example, if you run predictions across your customer base on a daily-batch cadence, then a unique identfier could be composed of your customer_id plus the date. "
   ]
  },
  {
   "cell_type": "markdown",
   "metadata": {},
   "source": [
    "Additionally, the predictions/scores from your model should match the column names in the registered schema. If we take a look above at *arthur_model.review_model()* we'll note that columns were created for us corresponding to classifier class probabilities (\"1\" and \"0\") and ground truth outcomes (\"1_ground_truth\" and \"0_ground_truth\"). Use these columns when uploading parquet. "
   ]
  },
  {
   "cell_type": "code",
   "execution_count": 19,
   "metadata": {},
   "outputs": [],
   "source": [
    "import os"
   ]
  },
  {
   "cell_type": "code",
   "execution_count": 48,
   "metadata": {},
   "outputs": [],
   "source": [
    "os.mkdir(\"./inferences\")\n",
    "os.mkdir(\"./ground_truth\")\n",
    "for i in range(10):\n",
    "    batch_size=1000\n",
    "    batch_id = \"batch_{}\".format(str(np.random.randint(1e3)))\n",
    "\n",
    "    rows_inds = np.random.randint(X_test.shape[0], size=batch_size)\n",
    "    batch_inputs_df = X_test.iloc[rows_inds, :]\n",
    "    batch_predictions_df = sk_model.predict_proba(batch_inputs_df)\n",
    "    batch_ground_truths = Y_test.values[rows_inds]\n",
    "    inference_external_id = [str(num) for num in np.random.randint(1e9, size=batch_size)]\n",
    "    \n",
    "    # need to include model prediction columns, and external_id\n",
    "    batch_df = batch_inputs_df.copy()\n",
    "    batch_df[\"0\"] = batch_predictions_df[:, 0]\n",
    "    batch_df[\"1\"] = batch_predictions_df[:, 1]\n",
    "    batch_df[\"external_id\"] = inference_external_id\n",
    "\n",
    "\n",
    "    # each batch needs to be in its own directory, which \n",
    "    # can contain multiple parquet files\n",
    "    dir_name = f'./inferences/{batch_id}'\n",
    "    os.mkdir(dir_name)\n",
    "    filepath = f'{dir_name}/{batch_id}.parquet'\n",
    "    batch_df.to_parquet(filepath, index=False)\n",
    "    arthur_model.send_batch_inferences(dir_name, batch_label=batch_id)\n",
    "    \n",
    "    # note the inference-wise groundtruth for later use\n",
    "    ground_truth_df = pd.DataFrame({\"external_id\":inference_external_id,\n",
    "                                   \"0_ground_truth\": batch_ground_truths ,\n",
    "                                   \"1_ground_truth\": 1 - batch_ground_truths})\n",
    "    ground_truth_df.to_parquet(f'./ground_truth/{batch_id}.parquet', index=False)\n",
    "    \n",
    "\n"
   ]
  },
  {
   "cell_type": "markdown",
   "metadata": {},
   "source": [
    "## Sending Batches of Ground Truth"
   ]
  },
  {
   "cell_type": "code",
   "execution_count": null,
   "metadata": {},
   "outputs": [],
   "source": [
    "arthur_model.send_batch_ground_truth(\"./ground_truth/\")"
   ]
  }
 ],
 "metadata": {
  "kernelspec": {
   "display_name": "env",
   "language": "python",
   "name": "env"
  },
  "language_info": {
   "codemirror_mode": {
    "name": "ipython",
    "version": 3
   },
   "file_extension": ".py",
   "mimetype": "text/x-python",
   "name": "python",
   "nbconvert_exporter": "python",
   "pygments_lexer": "ipython3",
   "version": "3.7.6"
  }
 },
 "nbformat": 4,
 "nbformat_minor": 4
}
