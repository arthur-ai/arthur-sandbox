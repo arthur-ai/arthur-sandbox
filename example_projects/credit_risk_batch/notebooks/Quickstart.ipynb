{
 "cells": [
  {
   "cell_type": "code",
   "execution_count": 1,
   "metadata": {
    "scrolled": true
   },
   "outputs": [],
   "source": [
    "from arthurai import ArthurAI\n",
    "from arthurai.client.apiv3 import InputType, OutputType, Stage\n",
    "import numpy as np\n",
    "import joblib\n",
    "import datetime\n",
    "import time\n",
    "import pandas as pd"
   ]
  },
  {
   "cell_type": "code",
   "execution_count": 2,
   "metadata": {
    "scrolled": true
   },
   "outputs": [],
   "source": [
    "import sys\n",
    "sys.path.append(\"..\")\n",
    "from model_utils import transformations, load_datasets"
   ]
  },
  {
   "cell_type": "markdown",
   "metadata": {},
   "source": [
    "In this guide, we'll use the credit dataset (and a pre-trained model) to onboard a new model to the Arthur platform. We'll walk through registering the model using a sample of the training data. This is an example of a batch model."
   ]
  },
  {
   "cell_type": "markdown",
   "metadata": {},
   "source": [
    "#### Set up connection\n",
    "Supply your API Key below to autheticate with the platform."
   ]
  },
  {
   "cell_type": "code",
   "execution_count": 3,
   "metadata": {
    "scrolled": true
   },
   "outputs": [],
   "source": [
    "URL = \"app.arthur.ai\"\n",
    "ACCESS_KEY = \"...\"\n",
    "\n",
    "connection = ArthurAI(url=URL, access_key=ACCESS_KEY, client_version=3)"
   ]
  },
  {
   "cell_type": "markdown",
   "metadata": {},
   "source": [
    "## Create Model"
   ]
  },
  {
   "cell_type": "markdown",
   "metadata": {},
   "source": [
    "We'll instantiate a model object with a small amount of metadata about the model input and output types. Then, we'll use a sample of the training data to register the full data schema for this Tabular model."
   ]
  },
  {
   "cell_type": "code",
   "execution_count": 24,
   "metadata": {
    "scrolled": true
   },
   "outputs": [],
   "source": [
    "arthur_model = connection.model(partner_model_id=\"CreditRisk_BatchDeployment_v0.0.1\",\n",
    "                               input_type=InputType.Tabular,\n",
    "                               output_type=OutputType.Multiclass,\n",
    "                               is_batch=True)"
   ]
  },
  {
   "cell_type": "code",
   "execution_count": 25,
   "metadata": {
    "scrolled": true
   },
   "outputs": [],
   "source": [
    "(X_train, Y_train), (X_test, Y_test) = load_datasets(\"../fixtures/datasets/credit_card_default.csv\")"
   ]
  },
  {
   "cell_type": "code",
   "execution_count": 6,
   "metadata": {},
   "outputs": [
    {
     "data": {
      "text/plain": [
       "15693    0\n",
       "27174    0\n",
       "24501    0\n",
       "15849    0\n",
       "27983    1\n",
       "Name: default payment next month, dtype: int64"
      ]
     },
     "execution_count": 6,
     "metadata": {},
     "output_type": "execute_result"
    }
   ],
   "source": [
    "Y_train.head()"
   ]
  },
  {
   "cell_type": "code",
   "execution_count": 7,
   "metadata": {},
   "outputs": [
    {
     "data": {
      "text/html": [
       "<div>\n",
       "<style scoped>\n",
       "    .dataframe tbody tr th:only-of-type {\n",
       "        vertical-align: middle;\n",
       "    }\n",
       "\n",
       "    .dataframe tbody tr th {\n",
       "        vertical-align: top;\n",
       "    }\n",
       "\n",
       "    .dataframe thead th {\n",
       "        text-align: right;\n",
       "    }\n",
       "</style>\n",
       "<table border=\"1\" class=\"dataframe\">\n",
       "  <thead>\n",
       "    <tr style=\"text-align: right;\">\n",
       "      <th></th>\n",
       "      <th>LIMIT_BAL</th>\n",
       "      <th>SEX</th>\n",
       "      <th>EDUCATION</th>\n",
       "      <th>MARRIAGE</th>\n",
       "      <th>AGE</th>\n",
       "      <th>PAY_0</th>\n",
       "      <th>PAY_2</th>\n",
       "      <th>PAY_3</th>\n",
       "      <th>PAY_4</th>\n",
       "      <th>PAY_5</th>\n",
       "      <th>...</th>\n",
       "      <th>BILL_AMT3</th>\n",
       "      <th>BILL_AMT4</th>\n",
       "      <th>BILL_AMT5</th>\n",
       "      <th>BILL_AMT6</th>\n",
       "      <th>PAY_AMT1</th>\n",
       "      <th>PAY_AMT2</th>\n",
       "      <th>PAY_AMT3</th>\n",
       "      <th>PAY_AMT4</th>\n",
       "      <th>PAY_AMT5</th>\n",
       "      <th>PAY_AMT6</th>\n",
       "    </tr>\n",
       "  </thead>\n",
       "  <tbody>\n",
       "    <tr>\n",
       "      <th>15693</th>\n",
       "      <td>360000</td>\n",
       "      <td>1</td>\n",
       "      <td>1</td>\n",
       "      <td>2</td>\n",
       "      <td>29</td>\n",
       "      <td>0</td>\n",
       "      <td>0</td>\n",
       "      <td>0</td>\n",
       "      <td>0</td>\n",
       "      <td>0</td>\n",
       "      <td>...</td>\n",
       "      <td>209680</td>\n",
       "      <td>213527</td>\n",
       "      <td>174907</td>\n",
       "      <td>126309</td>\n",
       "      <td>100000</td>\n",
       "      <td>8270</td>\n",
       "      <td>8423</td>\n",
       "      <td>6753</td>\n",
       "      <td>5139</td>\n",
       "      <td>5000</td>\n",
       "    </tr>\n",
       "    <tr>\n",
       "      <th>27174</th>\n",
       "      <td>190000</td>\n",
       "      <td>1</td>\n",
       "      <td>2</td>\n",
       "      <td>2</td>\n",
       "      <td>38</td>\n",
       "      <td>0</td>\n",
       "      <td>0</td>\n",
       "      <td>0</td>\n",
       "      <td>0</td>\n",
       "      <td>-1</td>\n",
       "      <td>...</td>\n",
       "      <td>5029</td>\n",
       "      <td>6494</td>\n",
       "      <td>678</td>\n",
       "      <td>11928</td>\n",
       "      <td>1100</td>\n",
       "      <td>1300</td>\n",
       "      <td>2000</td>\n",
       "      <td>678</td>\n",
       "      <td>11514</td>\n",
       "      <td>0</td>\n",
       "    </tr>\n",
       "    <tr>\n",
       "      <th>24501</th>\n",
       "      <td>100000</td>\n",
       "      <td>1</td>\n",
       "      <td>2</td>\n",
       "      <td>2</td>\n",
       "      <td>32</td>\n",
       "      <td>-1</td>\n",
       "      <td>2</td>\n",
       "      <td>-1</td>\n",
       "      <td>-1</td>\n",
       "      <td>-1</td>\n",
       "      <td>...</td>\n",
       "      <td>4100</td>\n",
       "      <td>7980</td>\n",
       "      <td>0</td>\n",
       "      <td>9487</td>\n",
       "      <td>0</td>\n",
       "      <td>4107</td>\n",
       "      <td>7980</td>\n",
       "      <td>0</td>\n",
       "      <td>9487</td>\n",
       "      <td>8333</td>\n",
       "    </tr>\n",
       "    <tr>\n",
       "      <th>15849</th>\n",
       "      <td>110000</td>\n",
       "      <td>2</td>\n",
       "      <td>1</td>\n",
       "      <td>1</td>\n",
       "      <td>28</td>\n",
       "      <td>0</td>\n",
       "      <td>0</td>\n",
       "      <td>0</td>\n",
       "      <td>0</td>\n",
       "      <td>0</td>\n",
       "      <td>...</td>\n",
       "      <td>111125</td>\n",
       "      <td>106828</td>\n",
       "      <td>84729</td>\n",
       "      <td>82910</td>\n",
       "      <td>11602</td>\n",
       "      <td>4238</td>\n",
       "      <td>4316</td>\n",
       "      <td>11190</td>\n",
       "      <td>0</td>\n",
       "      <td>3000</td>\n",
       "    </tr>\n",
       "    <tr>\n",
       "      <th>27983</th>\n",
       "      <td>60000</td>\n",
       "      <td>2</td>\n",
       "      <td>1</td>\n",
       "      <td>2</td>\n",
       "      <td>28</td>\n",
       "      <td>0</td>\n",
       "      <td>0</td>\n",
       "      <td>2</td>\n",
       "      <td>0</td>\n",
       "      <td>0</td>\n",
       "      <td>...</td>\n",
       "      <td>10232</td>\n",
       "      <td>11237</td>\n",
       "      <td>11427</td>\n",
       "      <td>20973</td>\n",
       "      <td>4278</td>\n",
       "      <td>0</td>\n",
       "      <td>1483</td>\n",
       "      <td>673</td>\n",
       "      <td>10000</td>\n",
       "      <td>11540</td>\n",
       "    </tr>\n",
       "  </tbody>\n",
       "</table>\n",
       "<p>5 rows × 23 columns</p>\n",
       "</div>"
      ],
      "text/plain": [
       "       LIMIT_BAL  SEX  EDUCATION  MARRIAGE  AGE  PAY_0  PAY_2  PAY_3  PAY_4  \\\n",
       "15693     360000    1          1         2   29      0      0      0      0   \n",
       "27174     190000    1          2         2   38      0      0      0      0   \n",
       "24501     100000    1          2         2   32     -1      2     -1     -1   \n",
       "15849     110000    2          1         1   28      0      0      0      0   \n",
       "27983      60000    2          1         2   28      0      0      2      0   \n",
       "\n",
       "       PAY_5  ...  BILL_AMT3  BILL_AMT4  BILL_AMT5  BILL_AMT6  PAY_AMT1  \\\n",
       "15693      0  ...     209680     213527     174907     126309    100000   \n",
       "27174     -1  ...       5029       6494        678      11928      1100   \n",
       "24501     -1  ...       4100       7980          0       9487         0   \n",
       "15849      0  ...     111125     106828      84729      82910     11602   \n",
       "27983      0  ...      10232      11237      11427      20973      4278   \n",
       "\n",
       "       PAY_AMT2  PAY_AMT3  PAY_AMT4  PAY_AMT5  PAY_AMT6  \n",
       "15693      8270      8423      6753      5139      5000  \n",
       "27174      1300      2000       678     11514         0  \n",
       "24501      4107      7980         0      9487      8333  \n",
       "15849      4238      4316     11190         0      3000  \n",
       "27983         0      1483       673     10000     11540  \n",
       "\n",
       "[5 rows x 23 columns]"
      ]
     },
     "execution_count": 7,
     "metadata": {},
     "output_type": "execute_result"
    }
   ],
   "source": [
    "X_train.head()"
   ]
  },
  {
   "cell_type": "markdown",
   "metadata": {},
   "source": [
    "We need to register what the data schema is for the inputs to the model. Since your model might hundreds or thousands of input features, you can just pass us a pandas DataFrame of your training data, and we'll handle the rest."
   ]
  },
  {
   "cell_type": "code",
   "execution_count": null,
   "metadata": {},
   "outputs": [],
   "source": [
    "arthur_model.from_dataframe(X_train, Stage.ModelPipelineInput)"
   ]
  },
  {
   "cell_type": "markdown",
   "metadata": {},
   "source": [
    "We need to register the schema for the outputs of the model: what will a typical prediction look like and what will a typical ground truth look like? What names, shapes, and datatypes should Arthur expect for these objects?\n",
    "\n",
    "Since this is a binary classification model, we'll do this all in one step with the *.add_binary_classifier_output_attributes()* method. All we need to supply is a mapping that establishes:\n",
    "  * names for the model's predictions\n",
    "  * names for the model's ground truth\n",
    "  * the mapping that related these two\n",
    "  \n",
    "Our classifier will be making predictions about class *0* and class *1* and will return a probability score for each class. Therefore, we'll set up a name *prediction_0* and a name *prediction_1*. Additionally, our groundtruth will be either a 0 or 1, but we'll always represent ground truth in the one-hot-endoded form. Therefore, we create two field called *gt_0* and *gt_1*. We link these all up in a dictionary and pass that to the model.  "
   ]
  },
  {
   "cell_type": "code",
   "execution_count": 26,
   "metadata": {},
   "outputs": [
    {
     "data": {
      "text/plain": [
       "{'prediction_0': <arthurai.client.apiv3.attributes.ArthurAttribute at 0x1214656d0>,\n",
       " 'gt_0': <arthurai.client.apiv3.attributes.ArthurAttribute at 0x12b17ff90>,\n",
       " 'prediction_1': <arthurai.client.apiv3.attributes.ArthurAttribute at 0x122448490>,\n",
       " 'gt_1': <arthurai.client.apiv3.attributes.ArthurAttribute at 0x122448f90>}"
      ]
     },
     "execution_count": 26,
     "metadata": {},
     "output_type": "execute_result"
    }
   ],
   "source": [
    "prediction_to_ground_truth_map = {\n",
    "    \"prediction_0\": \"gt_0\",\n",
    "    \"prediction_1\": \"gt_1\"\n",
    "}\n",
    "\n",
    "arthur_model.add_binary_classifier_output_attributes(\"prediction_1\", prediction_to_ground_truth_map)"
   ]
  },
  {
   "cell_type": "markdown",
   "metadata": {},
   "source": [
    "Note that the first argument to *.add_binary_classifier_output_attributes()* is the name of the \"positive predicted class\", for purposes of calculating accuracy metrics. "
   ]
  },
  {
   "cell_type": "markdown",
   "metadata": {},
   "source": [
    "Before saving, you can review a model to make sure everything is correct."
   ]
  },
  {
   "cell_type": "code",
   "execution_count": 11,
   "metadata": {
    "scrolled": true
   },
   "outputs": [
    {
     "data": {
      "text/html": [
       "<div>\n",
       "<style scoped>\n",
       "    .dataframe tbody tr th:only-of-type {\n",
       "        vertical-align: middle;\n",
       "    }\n",
       "\n",
       "    .dataframe tbody tr th {\n",
       "        vertical-align: top;\n",
       "    }\n",
       "\n",
       "    .dataframe thead th {\n",
       "        text-align: right;\n",
       "    }\n",
       "</style>\n",
       "<table border=\"1\" class=\"dataframe\">\n",
       "  <thead>\n",
       "    <tr style=\"text-align: right;\">\n",
       "      <th></th>\n",
       "      <th>name</th>\n",
       "      <th>stage</th>\n",
       "      <th>value_type</th>\n",
       "      <th>categorical</th>\n",
       "      <th>is_unique</th>\n",
       "      <th>categories</th>\n",
       "      <th>range</th>\n",
       "      <th>monitor_for_bias</th>\n",
       "    </tr>\n",
       "  </thead>\n",
       "  <tbody>\n",
       "    <tr>\n",
       "      <th>0</th>\n",
       "      <td>gt_0</td>\n",
       "      <td>GROUND_TRUTH</td>\n",
       "      <td>INTEGER</td>\n",
       "      <td>True</td>\n",
       "      <td>False</td>\n",
       "      <td>[{value: 0}, {value: 1}]</td>\n",
       "      <td>[None, None]</td>\n",
       "      <td>False</td>\n",
       "    </tr>\n",
       "    <tr>\n",
       "      <th>1</th>\n",
       "      <td>gt_1</td>\n",
       "      <td>GROUND_TRUTH</td>\n",
       "      <td>INTEGER</td>\n",
       "      <td>True</td>\n",
       "      <td>False</td>\n",
       "      <td>[{value: 0}, {value: 1}]</td>\n",
       "      <td>[None, None]</td>\n",
       "      <td>False</td>\n",
       "    </tr>\n",
       "    <tr>\n",
       "      <th>2</th>\n",
       "      <td>LIMIT_BAL</td>\n",
       "      <td>PIPELINE_INPUT</td>\n",
       "      <td>INTEGER</td>\n",
       "      <td>False</td>\n",
       "      <td>False</td>\n",
       "      <td>[]</td>\n",
       "      <td>[10000, 1000000]</td>\n",
       "      <td>False</td>\n",
       "    </tr>\n",
       "    <tr>\n",
       "      <th>3</th>\n",
       "      <td>SEX</td>\n",
       "      <td>PIPELINE_INPUT</td>\n",
       "      <td>INTEGER</td>\n",
       "      <td>True</td>\n",
       "      <td>False</td>\n",
       "      <td>[{value: 1}, {value: 2}]</td>\n",
       "      <td>[None, None]</td>\n",
       "      <td>True</td>\n",
       "    </tr>\n",
       "    <tr>\n",
       "      <th>4</th>\n",
       "      <td>EDUCATION</td>\n",
       "      <td>PIPELINE_INPUT</td>\n",
       "      <td>INTEGER</td>\n",
       "      <td>True</td>\n",
       "      <td>False</td>\n",
       "      <td>[{value: 0}, {value: 1}, {value: 2}, {value: 3...</td>\n",
       "      <td>[None, None]</td>\n",
       "      <td>True</td>\n",
       "    </tr>\n",
       "    <tr>\n",
       "      <th>5</th>\n",
       "      <td>MARRIAGE</td>\n",
       "      <td>PIPELINE_INPUT</td>\n",
       "      <td>INTEGER</td>\n",
       "      <td>True</td>\n",
       "      <td>False</td>\n",
       "      <td>[{value: 0}, {value: 1}, {value: 2}, {value: 3}]</td>\n",
       "      <td>[None, None]</td>\n",
       "      <td>False</td>\n",
       "    </tr>\n",
       "    <tr>\n",
       "      <th>6</th>\n",
       "      <td>AGE</td>\n",
       "      <td>PIPELINE_INPUT</td>\n",
       "      <td>INTEGER</td>\n",
       "      <td>False</td>\n",
       "      <td>False</td>\n",
       "      <td>[]</td>\n",
       "      <td>[21, 75]</td>\n",
       "      <td>False</td>\n",
       "    </tr>\n",
       "    <tr>\n",
       "      <th>7</th>\n",
       "      <td>PAY_0</td>\n",
       "      <td>PIPELINE_INPUT</td>\n",
       "      <td>INTEGER</td>\n",
       "      <td>True</td>\n",
       "      <td>False</td>\n",
       "      <td>[{value: 0}, {value: 1}, {value: 2}, {value: 3...</td>\n",
       "      <td>[None, None]</td>\n",
       "      <td>False</td>\n",
       "    </tr>\n",
       "    <tr>\n",
       "      <th>8</th>\n",
       "      <td>PAY_2</td>\n",
       "      <td>PIPELINE_INPUT</td>\n",
       "      <td>INTEGER</td>\n",
       "      <td>True</td>\n",
       "      <td>False</td>\n",
       "      <td>[{value: 0}, {value: 1}, {value: 2}, {value: 3...</td>\n",
       "      <td>[None, None]</td>\n",
       "      <td>False</td>\n",
       "    </tr>\n",
       "    <tr>\n",
       "      <th>9</th>\n",
       "      <td>PAY_3</td>\n",
       "      <td>PIPELINE_INPUT</td>\n",
       "      <td>INTEGER</td>\n",
       "      <td>True</td>\n",
       "      <td>False</td>\n",
       "      <td>[{value: 0}, {value: 1}, {value: 2}, {value: 3...</td>\n",
       "      <td>[None, None]</td>\n",
       "      <td>False</td>\n",
       "    </tr>\n",
       "    <tr>\n",
       "      <th>10</th>\n",
       "      <td>PAY_4</td>\n",
       "      <td>PIPELINE_INPUT</td>\n",
       "      <td>INTEGER</td>\n",
       "      <td>True</td>\n",
       "      <td>False</td>\n",
       "      <td>[{value: 0}, {value: 1}, {value: 2}, {value: 3...</td>\n",
       "      <td>[None, None]</td>\n",
       "      <td>False</td>\n",
       "    </tr>\n",
       "    <tr>\n",
       "      <th>11</th>\n",
       "      <td>PAY_5</td>\n",
       "      <td>PIPELINE_INPUT</td>\n",
       "      <td>INTEGER</td>\n",
       "      <td>True</td>\n",
       "      <td>False</td>\n",
       "      <td>[{value: 0}, {value: 2}, {value: 3}, {value: 4...</td>\n",
       "      <td>[None, None]</td>\n",
       "      <td>False</td>\n",
       "    </tr>\n",
       "    <tr>\n",
       "      <th>12</th>\n",
       "      <td>PAY_6</td>\n",
       "      <td>PIPELINE_INPUT</td>\n",
       "      <td>INTEGER</td>\n",
       "      <td>True</td>\n",
       "      <td>False</td>\n",
       "      <td>[{value: 0}, {value: 2}, {value: 3}, {value: 4...</td>\n",
       "      <td>[None, None]</td>\n",
       "      <td>False</td>\n",
       "    </tr>\n",
       "    <tr>\n",
       "      <th>13</th>\n",
       "      <td>BILL_AMT1</td>\n",
       "      <td>PIPELINE_INPUT</td>\n",
       "      <td>INTEGER</td>\n",
       "      <td>False</td>\n",
       "      <td>False</td>\n",
       "      <td>[]</td>\n",
       "      <td>[-154973, 964511]</td>\n",
       "      <td>False</td>\n",
       "    </tr>\n",
       "    <tr>\n",
       "      <th>14</th>\n",
       "      <td>BILL_AMT2</td>\n",
       "      <td>PIPELINE_INPUT</td>\n",
       "      <td>INTEGER</td>\n",
       "      <td>False</td>\n",
       "      <td>False</td>\n",
       "      <td>[]</td>\n",
       "      <td>[-67526, 983931]</td>\n",
       "      <td>False</td>\n",
       "    </tr>\n",
       "    <tr>\n",
       "      <th>15</th>\n",
       "      <td>BILL_AMT3</td>\n",
       "      <td>PIPELINE_INPUT</td>\n",
       "      <td>INTEGER</td>\n",
       "      <td>False</td>\n",
       "      <td>False</td>\n",
       "      <td>[]</td>\n",
       "      <td>[-157264, 855086]</td>\n",
       "      <td>False</td>\n",
       "    </tr>\n",
       "    <tr>\n",
       "      <th>16</th>\n",
       "      <td>BILL_AMT4</td>\n",
       "      <td>PIPELINE_INPUT</td>\n",
       "      <td>INTEGER</td>\n",
       "      <td>False</td>\n",
       "      <td>False</td>\n",
       "      <td>[]</td>\n",
       "      <td>[-170000, 891586]</td>\n",
       "      <td>False</td>\n",
       "    </tr>\n",
       "    <tr>\n",
       "      <th>17</th>\n",
       "      <td>BILL_AMT5</td>\n",
       "      <td>PIPELINE_INPUT</td>\n",
       "      <td>INTEGER</td>\n",
       "      <td>False</td>\n",
       "      <td>False</td>\n",
       "      <td>[]</td>\n",
       "      <td>[-81334, 927171]</td>\n",
       "      <td>False</td>\n",
       "    </tr>\n",
       "    <tr>\n",
       "      <th>18</th>\n",
       "      <td>BILL_AMT6</td>\n",
       "      <td>PIPELINE_INPUT</td>\n",
       "      <td>INTEGER</td>\n",
       "      <td>False</td>\n",
       "      <td>False</td>\n",
       "      <td>[]</td>\n",
       "      <td>[-339603, 961664]</td>\n",
       "      <td>False</td>\n",
       "    </tr>\n",
       "    <tr>\n",
       "      <th>19</th>\n",
       "      <td>PAY_AMT1</td>\n",
       "      <td>PIPELINE_INPUT</td>\n",
       "      <td>INTEGER</td>\n",
       "      <td>False</td>\n",
       "      <td>False</td>\n",
       "      <td>[]</td>\n",
       "      <td>[0, 493358]</td>\n",
       "      <td>False</td>\n",
       "    </tr>\n",
       "    <tr>\n",
       "      <th>20</th>\n",
       "      <td>PAY_AMT2</td>\n",
       "      <td>PIPELINE_INPUT</td>\n",
       "      <td>INTEGER</td>\n",
       "      <td>False</td>\n",
       "      <td>False</td>\n",
       "      <td>[]</td>\n",
       "      <td>[0, 1227082]</td>\n",
       "      <td>False</td>\n",
       "    </tr>\n",
       "    <tr>\n",
       "      <th>21</th>\n",
       "      <td>PAY_AMT3</td>\n",
       "      <td>PIPELINE_INPUT</td>\n",
       "      <td>INTEGER</td>\n",
       "      <td>False</td>\n",
       "      <td>False</td>\n",
       "      <td>[]</td>\n",
       "      <td>[0, 896040]</td>\n",
       "      <td>False</td>\n",
       "    </tr>\n",
       "    <tr>\n",
       "      <th>22</th>\n",
       "      <td>PAY_AMT4</td>\n",
       "      <td>PIPELINE_INPUT</td>\n",
       "      <td>INTEGER</td>\n",
       "      <td>False</td>\n",
       "      <td>False</td>\n",
       "      <td>[]</td>\n",
       "      <td>[0, 528897]</td>\n",
       "      <td>False</td>\n",
       "    </tr>\n",
       "    <tr>\n",
       "      <th>23</th>\n",
       "      <td>PAY_AMT5</td>\n",
       "      <td>PIPELINE_INPUT</td>\n",
       "      <td>INTEGER</td>\n",
       "      <td>False</td>\n",
       "      <td>False</td>\n",
       "      <td>[]</td>\n",
       "      <td>[0, 426529]</td>\n",
       "      <td>False</td>\n",
       "    </tr>\n",
       "    <tr>\n",
       "      <th>24</th>\n",
       "      <td>PAY_AMT6</td>\n",
       "      <td>PIPELINE_INPUT</td>\n",
       "      <td>INTEGER</td>\n",
       "      <td>False</td>\n",
       "      <td>False</td>\n",
       "      <td>[]</td>\n",
       "      <td>[0, 528666]</td>\n",
       "      <td>False</td>\n",
       "    </tr>\n",
       "    <tr>\n",
       "      <th>25</th>\n",
       "      <td>prediction_0</td>\n",
       "      <td>PREDICTED_VALUE</td>\n",
       "      <td>FLOAT</td>\n",
       "      <td>False</td>\n",
       "      <td>False</td>\n",
       "      <td>[]</td>\n",
       "      <td>[0, 1]</td>\n",
       "      <td>False</td>\n",
       "    </tr>\n",
       "    <tr>\n",
       "      <th>26</th>\n",
       "      <td>prediction_1</td>\n",
       "      <td>PREDICTED_VALUE</td>\n",
       "      <td>FLOAT</td>\n",
       "      <td>False</td>\n",
       "      <td>False</td>\n",
       "      <td>[]</td>\n",
       "      <td>[0, 1]</td>\n",
       "      <td>False</td>\n",
       "    </tr>\n",
       "  </tbody>\n",
       "</table>\n",
       "</div>"
      ],
      "text/plain": [
       "            name            stage value_type categorical is_unique  \\\n",
       "0           gt_0     GROUND_TRUTH    INTEGER        True     False   \n",
       "1           gt_1     GROUND_TRUTH    INTEGER        True     False   \n",
       "2      LIMIT_BAL   PIPELINE_INPUT    INTEGER       False     False   \n",
       "3            SEX   PIPELINE_INPUT    INTEGER        True     False   \n",
       "4      EDUCATION   PIPELINE_INPUT    INTEGER        True     False   \n",
       "5       MARRIAGE   PIPELINE_INPUT    INTEGER        True     False   \n",
       "6            AGE   PIPELINE_INPUT    INTEGER       False     False   \n",
       "7          PAY_0   PIPELINE_INPUT    INTEGER        True     False   \n",
       "8          PAY_2   PIPELINE_INPUT    INTEGER        True     False   \n",
       "9          PAY_3   PIPELINE_INPUT    INTEGER        True     False   \n",
       "10         PAY_4   PIPELINE_INPUT    INTEGER        True     False   \n",
       "11         PAY_5   PIPELINE_INPUT    INTEGER        True     False   \n",
       "12         PAY_6   PIPELINE_INPUT    INTEGER        True     False   \n",
       "13     BILL_AMT1   PIPELINE_INPUT    INTEGER       False     False   \n",
       "14     BILL_AMT2   PIPELINE_INPUT    INTEGER       False     False   \n",
       "15     BILL_AMT3   PIPELINE_INPUT    INTEGER       False     False   \n",
       "16     BILL_AMT4   PIPELINE_INPUT    INTEGER       False     False   \n",
       "17     BILL_AMT5   PIPELINE_INPUT    INTEGER       False     False   \n",
       "18     BILL_AMT6   PIPELINE_INPUT    INTEGER       False     False   \n",
       "19      PAY_AMT1   PIPELINE_INPUT    INTEGER       False     False   \n",
       "20      PAY_AMT2   PIPELINE_INPUT    INTEGER       False     False   \n",
       "21      PAY_AMT3   PIPELINE_INPUT    INTEGER       False     False   \n",
       "22      PAY_AMT4   PIPELINE_INPUT    INTEGER       False     False   \n",
       "23      PAY_AMT5   PIPELINE_INPUT    INTEGER       False     False   \n",
       "24      PAY_AMT6   PIPELINE_INPUT    INTEGER       False     False   \n",
       "25  prediction_0  PREDICTED_VALUE      FLOAT       False     False   \n",
       "26  prediction_1  PREDICTED_VALUE      FLOAT       False     False   \n",
       "\n",
       "                                           categories              range  \\\n",
       "0                            [{value: 0}, {value: 1}]       [None, None]   \n",
       "1                            [{value: 0}, {value: 1}]       [None, None]   \n",
       "2                                                  []   [10000, 1000000]   \n",
       "3                            [{value: 1}, {value: 2}]       [None, None]   \n",
       "4   [{value: 0}, {value: 1}, {value: 2}, {value: 3...       [None, None]   \n",
       "5    [{value: 0}, {value: 1}, {value: 2}, {value: 3}]       [None, None]   \n",
       "6                                                  []           [21, 75]   \n",
       "7   [{value: 0}, {value: 1}, {value: 2}, {value: 3...       [None, None]   \n",
       "8   [{value: 0}, {value: 1}, {value: 2}, {value: 3...       [None, None]   \n",
       "9   [{value: 0}, {value: 1}, {value: 2}, {value: 3...       [None, None]   \n",
       "10  [{value: 0}, {value: 1}, {value: 2}, {value: 3...       [None, None]   \n",
       "11  [{value: 0}, {value: 2}, {value: 3}, {value: 4...       [None, None]   \n",
       "12  [{value: 0}, {value: 2}, {value: 3}, {value: 4...       [None, None]   \n",
       "13                                                 []  [-154973, 964511]   \n",
       "14                                                 []   [-67526, 983931]   \n",
       "15                                                 []  [-157264, 855086]   \n",
       "16                                                 []  [-170000, 891586]   \n",
       "17                                                 []   [-81334, 927171]   \n",
       "18                                                 []  [-339603, 961664]   \n",
       "19                                                 []        [0, 493358]   \n",
       "20                                                 []       [0, 1227082]   \n",
       "21                                                 []        [0, 896040]   \n",
       "22                                                 []        [0, 528897]   \n",
       "23                                                 []        [0, 426529]   \n",
       "24                                                 []        [0, 528666]   \n",
       "25                                                 []             [0, 1]   \n",
       "26                                                 []             [0, 1]   \n",
       "\n",
       "   monitor_for_bias  \n",
       "0             False  \n",
       "1             False  \n",
       "2             False  \n",
       "3              True  \n",
       "4              True  \n",
       "5             False  \n",
       "6             False  \n",
       "7             False  \n",
       "8             False  \n",
       "9             False  \n",
       "10            False  \n",
       "11            False  \n",
       "12            False  \n",
       "13            False  \n",
       "14            False  \n",
       "15            False  \n",
       "16            False  \n",
       "17            False  \n",
       "18            False  \n",
       "19            False  \n",
       "20            False  \n",
       "21            False  \n",
       "22            False  \n",
       "23            False  \n",
       "24            False  \n",
       "25            False  \n",
       "26            False  "
      ]
     },
     "metadata": {},
     "output_type": "display_data"
    }
   ],
   "source": [
    "arthur_model.review()"
   ]
  },
  {
   "cell_type": "code",
   "execution_count": 28,
   "metadata": {
    "scrolled": true
   },
   "outputs": [
    {
     "data": {
      "text/plain": [
       "'cc4d356d-a828-4c52-9650-505595c9ea20'"
      ]
     },
     "execution_count": 28,
     "metadata": {},
     "output_type": "execute_result"
    }
   ],
   "source": [
    "arthur_model.save()"
   ]
  },
  {
   "cell_type": "markdown",
   "metadata": {},
   "source": [
    "### Setting baseline data\n",
    "For tracking data drift, you can upload a dataset to serve as the baseline or reference set. Often, this is a sample of your training data for the associated model. Our reference dataset should ideally include examples of\n",
    "  * inputs \n",
    "  * ground truth\n",
    "  * model predictions\n",
    "  \n",
    "for a sample of the training set. This way, Arthur can monitor for drift and stability in all of these aspects. "
   ]
  },
  {
   "cell_type": "code",
   "execution_count": 29,
   "metadata": {},
   "outputs": [],
   "source": [
    "# load our pre-trained classifier so we can generate predictions\n",
    "sk_model = joblib.load(\"../fixtures/serialized_models/credit_model.pkl\")"
   ]
  },
  {
   "cell_type": "code",
   "execution_count": 30,
   "metadata": {},
   "outputs": [],
   "source": [
    "# get all input columns\n",
    "reference_set = X_train.copy()\n",
    "\n",
    "# get ground truth labels\n",
    "reference_set[\"gt_1\"] = Y_train\n",
    "reference_set[\"gt_0\"] = 1-Y_train\n",
    "\n",
    "# get model predictions\n",
    "preds = sk_model.predict_proba(X_train)\n",
    "reference_set[\"prediction_1\"] = preds[:, 1]\n",
    "reference_set[\"prediction_0\"] = preds[:, 0]\n"
   ]
  },
  {
   "cell_type": "markdown",
   "metadata": {},
   "source": [
    "Note that the column names of inputs, predicitons, and ground truths need to match the schema we established at model onboarding. Use *arthur_model.review()* to remind yourself of your naming conventions."
   ]
  },
  {
   "cell_type": "code",
   "execution_count": 31,
   "metadata": {},
   "outputs": [
    {
     "data": {
      "text/plain": [
       "{'counts': {'success': 21000, 'failure': 0, 'total': 21000}, 'failures': [[]]}"
      ]
     },
     "execution_count": 31,
     "metadata": {},
     "output_type": "execute_result"
    }
   ],
   "source": [
    "arthur_model.set_reference_data(data=reference_set)"
   ]
  },
  {
   "cell_type": "markdown",
   "metadata": {},
   "source": [
    "## Sending Batches of Inferences"
   ]
  },
  {
   "cell_type": "markdown",
   "metadata": {},
   "source": [
    "Load test data and trained model. Let's familiarize ourselves with the data and the model.\n"
   ]
  },
  {
   "cell_type": "code",
   "execution_count": 15,
   "metadata": {
    "scrolled": true
   },
   "outputs": [],
   "source": [
    "X_test.shape"
   ]
  },
  {
   "cell_type": "code",
   "execution_count": 16,
   "metadata": {},
   "outputs": [
    {
     "data": {
      "text/plain": [
       "RandomForestClassifier(bootstrap=True, class_weight=None, criterion='gini',\n",
       "                       max_depth=15, max_features='auto', max_leaf_nodes=None,\n",
       "                       min_impurity_decrease=0.0, min_impurity_split=None,\n",
       "                       min_samples_leaf=1, min_samples_split=2,\n",
       "                       min_weight_fraction_leaf=0.0, n_estimators=500,\n",
       "                       n_jobs=None, oob_score=False, random_state=None,\n",
       "                       verbose=0, warm_start=False)"
      ]
     },
     "execution_count": 16,
     "metadata": {},
     "output_type": "execute_result"
    }
   ],
   "source": [
    "sk_model"
   ]
  },
  {
   "cell_type": "code",
   "execution_count": 18,
   "metadata": {},
   "outputs": [
    {
     "data": {
      "text/plain": [
       "array([0.93286639, 0.06713361])"
      ]
     },
     "execution_count": 18,
     "metadata": {},
     "output_type": "execute_result"
    }
   ],
   "source": [
    "sk_model.predict_proba(X_train.iloc[0:1, :])[0]"
   ]
  },
  {
   "cell_type": "markdown",
   "metadata": {},
   "source": [
    "There are a couple columns in the uploaded dataframe that we should take special note of. "
   ]
  },
  {
   "cell_type": "markdown",
   "metadata": {},
   "source": [
    "Additionally, the predictions/scores from your model should match the column names in the registered schema. If we take a look above at *arthur_model.review()* we'll recall that columns we created correspond to the clasiffier's output probabilities over the classes (\"prediction_1\" and \"prediction_0\") and the corresponding ground truth over the possible clases in one-hot form (\"gt_1\" and \"gt_0\").\n",
    "\n",
    "Aside from these model-specific columns, there are some standard inputs need to indentify inferences and batches.\n",
    "* First, each inference needs a unique identifier so that it can later be joined with ground truth. Include a column named **partner_inference_id** and ensure these IDs are unique across batches. For example, if you run predictions across your customer base on a daily-batch cadence, then a unique identfier could be composed of your customer_id plus the date.  \n",
    "* Second, each inference needs to be associated with a **batch_id**, but this id will be shared among one or more inferences. \n",
    "* Finally, each inference needs an **inference_timestamp** and these don't have to be unique.\n",
    "\n",
    "We'll use our clasifier to score a batch of inputs and then assemble those inputs and predictions into a dataframe with the matching column names."
   ]
  },
  {
   "cell_type": "code",
   "execution_count": 47,
   "metadata": {},
   "outputs": [],
   "source": [
    "num_batches = 50\n",
    "\n",
    "for i in range(num_batches):\n",
    "    batch_size=3000\n",
    "    batch_id = \"batch_{}\".format(str(np.random.randint(1e3)))\n",
    "\n",
    "    # generate a small batch of rows from the test set, create unique id for each row\n",
    "    rows_inds = np.random.randint(X_test.shape[0], size=batch_size)\n",
    "    batch_inputs_df = X_test.iloc[rows_inds, :]\n",
    "    inference_id = [str(num) for num in np.random.randint(1e11, size=batch_size)]\n",
    "    \n",
    "    # calculate predictions on those rows, fetch ground truth for those rows\n",
    "    batch_predictions = sk_model.predict_proba(batch_inputs_df)\n",
    "    batch_ground_truths = Y_test.values[rows_inds]\n",
    "    \n",
    "    \n",
    "    # Next, we put these components together into the dataframe sent to Arthur\n",
    "    # include all input columns to the model\n",
    "    batch_df = batch_inputs_df.copy()\n",
    "    \n",
    "    # need to include model prediction columns, and partner_inference_id\n",
    "    batch_df[\"prediction_0\"] = batch_predictions[:, 0]\n",
    "    batch_df[\"prediction_1\"] = batch_predictions[:, 1]\n",
    "    batch_df[\"partner_inference_id\"] = inference_id\n",
    "    \n",
    "    # also need to include a batch_id for the upload, and a timestamp for all the inferences\n",
    "    batch_df[\"batch_id\"] = batch_id\n",
    "    batch_df[\"inference_timestamp\"]=[(datetime.datetime.utcnow())]*batch_size\n",
    "\n",
    "\n",
    "    # sent the batch of inputs&predictions    \n",
    "    arthur_model.send_batch_inferences(data=batch_df)\n",
    "    \n",
    "    # assemble the inference-wise groundtruth and upload\n",
    "    ground_truth_df = pd.DataFrame({\"partner_inference_id\":inference_id,\n",
    "                                   \"gt_0\": 1 - batch_ground_truths ,\n",
    "                                   \"gt_1\": batch_ground_truths,\n",
    "                                   \"batch_id\" : (\"gt_\" + batch_id) ,\n",
    "                                   \"ground_truth_timestamp\":[(datetime.datetime.utcnow())]*batch_size})\n",
    "    arthur_model.send_batch_ground_truths(data=ground_truth_df)\n",
    "    \n",
    "    \n",
    "\n"
   ]
  },
  {
   "cell_type": "markdown",
   "metadata": {},
   "source": [
    "## Sending Batches of Ground Truth"
   ]
  },
  {
   "cell_type": "markdown",
   "metadata": {},
   "source": [
    "Realistically, there will be some delay before you have ground truth for your model's predictions. Whether that ground truth is accessible after one minute or one year, the *send_batch_ground_truths()* method can be called at any later time. The ground truth (labels) will joined with their corresponding predictions to yield accuracy measures. "
   ]
  },
  {
   "cell_type": "markdown",
   "metadata": {},
   "source": [
    "Note that the dataframe here contains similiar required columns such as:\n",
    " * **partner_inference_id**\n",
    " * **batch_id**\n",
    " * **ground_truth_timestamp**\n",
    " \n",
    "And then it also contains columns that are specific to our model and match the ground truth schema that we establiashed at onboarding (*gt_0* and *gt_1*)."
   ]
  },
  {
   "cell_type": "code",
   "execution_count": 43,
   "metadata": {},
   "outputs": [
    {
     "data": {
      "text/html": [
       "<div>\n",
       "<style scoped>\n",
       "    .dataframe tbody tr th:only-of-type {\n",
       "        vertical-align: middle;\n",
       "    }\n",
       "\n",
       "    .dataframe tbody tr th {\n",
       "        vertical-align: top;\n",
       "    }\n",
       "\n",
       "    .dataframe thead th {\n",
       "        text-align: right;\n",
       "    }\n",
       "</style>\n",
       "<table border=\"1\" class=\"dataframe\">\n",
       "  <thead>\n",
       "    <tr style=\"text-align: right;\">\n",
       "      <th></th>\n",
       "      <th>partner_inference_id</th>\n",
       "      <th>gt_0</th>\n",
       "      <th>gt_1</th>\n",
       "      <th>batch_id</th>\n",
       "      <th>ground_truth_timestamp</th>\n",
       "    </tr>\n",
       "  </thead>\n",
       "  <tbody>\n",
       "    <tr>\n",
       "      <th>0</th>\n",
       "      <td>88483590978</td>\n",
       "      <td>1</td>\n",
       "      <td>0</td>\n",
       "      <td>gt_batch_968gt_batch_968gt_batch_968gt_batch_9...</td>\n",
       "      <td>2020-10-11 18:20:54.491177</td>\n",
       "    </tr>\n",
       "    <tr>\n",
       "      <th>1</th>\n",
       "      <td>7996408539</td>\n",
       "      <td>0</td>\n",
       "      <td>1</td>\n",
       "      <td>gt_batch_968gt_batch_968gt_batch_968gt_batch_9...</td>\n",
       "      <td>2020-10-11 18:20:54.491177</td>\n",
       "    </tr>\n",
       "    <tr>\n",
       "      <th>2</th>\n",
       "      <td>92548791191</td>\n",
       "      <td>1</td>\n",
       "      <td>0</td>\n",
       "      <td>gt_batch_968gt_batch_968gt_batch_968gt_batch_9...</td>\n",
       "      <td>2020-10-11 18:20:54.491177</td>\n",
       "    </tr>\n",
       "    <tr>\n",
       "      <th>3</th>\n",
       "      <td>89802159216</td>\n",
       "      <td>1</td>\n",
       "      <td>0</td>\n",
       "      <td>gt_batch_968gt_batch_968gt_batch_968gt_batch_9...</td>\n",
       "      <td>2020-10-11 18:20:54.491177</td>\n",
       "    </tr>\n",
       "    <tr>\n",
       "      <th>4</th>\n",
       "      <td>47576849716</td>\n",
       "      <td>1</td>\n",
       "      <td>0</td>\n",
       "      <td>gt_batch_968gt_batch_968gt_batch_968gt_batch_9...</td>\n",
       "      <td>2020-10-11 18:20:54.491177</td>\n",
       "    </tr>\n",
       "  </tbody>\n",
       "</table>\n",
       "</div>"
      ],
      "text/plain": [
       "  partner_inference_id  gt_0  gt_1  \\\n",
       "0          88483590978     1     0   \n",
       "1           7996408539     0     1   \n",
       "2          92548791191     1     0   \n",
       "3          89802159216     1     0   \n",
       "4          47576849716     1     0   \n",
       "\n",
       "                                            batch_id  \\\n",
       "0  gt_batch_968gt_batch_968gt_batch_968gt_batch_9...   \n",
       "1  gt_batch_968gt_batch_968gt_batch_968gt_batch_9...   \n",
       "2  gt_batch_968gt_batch_968gt_batch_968gt_batch_9...   \n",
       "3  gt_batch_968gt_batch_968gt_batch_968gt_batch_9...   \n",
       "4  gt_batch_968gt_batch_968gt_batch_968gt_batch_9...   \n",
       "\n",
       "      ground_truth_timestamp  \n",
       "0 2020-10-11 18:20:54.491177  \n",
       "1 2020-10-11 18:20:54.491177  \n",
       "2 2020-10-11 18:20:54.491177  \n",
       "3 2020-10-11 18:20:54.491177  \n",
       "4 2020-10-11 18:20:54.491177  "
      ]
     },
     "execution_count": 43,
     "metadata": {},
     "output_type": "execute_result"
    }
   ],
   "source": [
    "ground_truth_df.head()"
   ]
  },
  {
   "cell_type": "code",
   "execution_count": 46,
   "metadata": {},
   "outputs": [
    {
     "data": {
      "text/plain": [
       "{'counts': {'success': 3000, 'failure': 0, 'total': 3000}, 'failures': [[]]}"
      ]
     },
     "execution_count": 46,
     "metadata": {},
     "output_type": "execute_result"
    }
   ],
   "source": [
    "arthur_model.send_batch_ground_truths(data=ground_truth_df)"
   ]
  },
  {
   "cell_type": "code",
   "execution_count": null,
   "metadata": {},
   "outputs": [],
   "source": []
  }
 ],
 "metadata": {
  "kernelspec": {
   "display_name": "env",
   "language": "python",
   "name": "env"
  },
  "language_info": {
   "codemirror_mode": {
    "name": "ipython",
    "version": 3
   },
   "file_extension": ".py",
   "mimetype": "text/x-python",
   "name": "python",
   "nbconvert_exporter": "python",
   "pygments_lexer": "ipython3",
   "version": "3.7.6"
  }
 },
 "nbformat": 4,
 "nbformat_minor": 4
}
