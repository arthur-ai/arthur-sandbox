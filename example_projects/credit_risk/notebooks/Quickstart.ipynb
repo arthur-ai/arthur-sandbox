{
 "cells": [
  {
   "cell_type": "code",
   "execution_count": 32,
   "metadata": {
    "scrolled": true
   },
   "outputs": [],
   "source": [
    "from arthurai import ArthurAI, ModelType, InputType, Stage\n",
    "import numpy as np\n",
    "import joblib\n",
    "import datetime\n",
    "import time"
   ]
  },
  {
   "cell_type": "code",
   "execution_count": 5,
   "metadata": {
    "scrolled": true
   },
   "outputs": [],
   "source": [
    "import sys\n",
    "sys.path.append(\"../src\")\n",
    "from model_utils import transformations, load_datasets"
   ]
  },
  {
   "cell_type": "markdown",
   "metadata": {},
   "source": [
    "In this guide, we'll use the credit dataset (and a pre-trained model) to onboard a new model to the Arthur platform. We'll walk through registering the model using a sample of the training data. "
   ]
  },
  {
   "cell_type": "markdown",
   "metadata": {},
   "source": [
    "#### Set up connection\n",
    "Supply your API Key below to autheticate with the platform."
   ]
  },
  {
   "cell_type": "code",
   "execution_count": 38,
   "metadata": {
    "scrolled": true
   },
   "outputs": [],
   "source": [
    "config = {\"url\": \"dev.arthur.ai\", \"access_key\":\"...\"}\n",
    "connection = ArthurAI(config)"
   ]
  },
  {
   "cell_type": "markdown",
   "metadata": {},
   "source": [
    "## Create Model"
   ]
  },
  {
   "cell_type": "markdown",
   "metadata": {},
   "source": [
    "We'll instantiate a model object with a small amount of metadata about the model input and output types. Then, we'll use a sample of the training data to register the full data schema for this Tabular model."
   ]
  },
  {
   "cell_type": "code",
   "execution_count": 21,
   "metadata": {
    "scrolled": true
   },
   "outputs": [],
   "source": [
    "arthur_model = connection.model(name=\"CreditRiskModel\",\n",
    "                               input_type=InputType.Tabular,\n",
    "                               model_type=ModelType.Multiclass)"
   ]
  },
  {
   "cell_type": "code",
   "execution_count": 22,
   "metadata": {
    "scrolled": true
   },
   "outputs": [],
   "source": [
    "(X_train, Y_train), (X_test, Y_test) = load_datasets(\"../fixtures/datasets/credit_card_default.csv\")"
   ]
  },
  {
   "cell_type": "code",
   "execution_count": 43,
   "metadata": {},
   "outputs": [
    {
     "data": {
      "text/html": [
       "<div>\n",
       "<style scoped>\n",
       "    .dataframe tbody tr th:only-of-type {\n",
       "        vertical-align: middle;\n",
       "    }\n",
       "\n",
       "    .dataframe tbody tr th {\n",
       "        vertical-align: top;\n",
       "    }\n",
       "\n",
       "    .dataframe thead th {\n",
       "        text-align: right;\n",
       "    }\n",
       "</style>\n",
       "<table border=\"1\" class=\"dataframe\">\n",
       "  <thead>\n",
       "    <tr style=\"text-align: right;\">\n",
       "      <th></th>\n",
       "      <th>LIMIT_BAL</th>\n",
       "      <th>SEX</th>\n",
       "      <th>EDUCATION</th>\n",
       "      <th>MARRIAGE</th>\n",
       "      <th>AGE</th>\n",
       "      <th>PAY_0</th>\n",
       "      <th>PAY_2</th>\n",
       "      <th>PAY_3</th>\n",
       "      <th>PAY_4</th>\n",
       "      <th>PAY_5</th>\n",
       "      <th>...</th>\n",
       "      <th>BILL_AMT3</th>\n",
       "      <th>BILL_AMT4</th>\n",
       "      <th>BILL_AMT5</th>\n",
       "      <th>BILL_AMT6</th>\n",
       "      <th>PAY_AMT1</th>\n",
       "      <th>PAY_AMT2</th>\n",
       "      <th>PAY_AMT3</th>\n",
       "      <th>PAY_AMT4</th>\n",
       "      <th>PAY_AMT5</th>\n",
       "      <th>PAY_AMT6</th>\n",
       "    </tr>\n",
       "  </thead>\n",
       "  <tbody>\n",
       "    <tr>\n",
       "      <th>26301</th>\n",
       "      <td>130000</td>\n",
       "      <td>2</td>\n",
       "      <td>3</td>\n",
       "      <td>2</td>\n",
       "      <td>35</td>\n",
       "      <td>0</td>\n",
       "      <td>0</td>\n",
       "      <td>0</td>\n",
       "      <td>0</td>\n",
       "      <td>0</td>\n",
       "      <td>...</td>\n",
       "      <td>5771</td>\n",
       "      <td>8659</td>\n",
       "      <td>10503</td>\n",
       "      <td>11329</td>\n",
       "      <td>1000</td>\n",
       "      <td>1000</td>\n",
       "      <td>3000</td>\n",
       "      <td>2000</td>\n",
       "      <td>1000</td>\n",
       "      <td>1000</td>\n",
       "    </tr>\n",
       "    <tr>\n",
       "      <th>24009</th>\n",
       "      <td>30000</td>\n",
       "      <td>1</td>\n",
       "      <td>1</td>\n",
       "      <td>2</td>\n",
       "      <td>24</td>\n",
       "      <td>0</td>\n",
       "      <td>0</td>\n",
       "      <td>0</td>\n",
       "      <td>2</td>\n",
       "      <td>0</td>\n",
       "      <td>...</td>\n",
       "      <td>6214</td>\n",
       "      <td>3311</td>\n",
       "      <td>4430</td>\n",
       "      <td>906</td>\n",
       "      <td>1440</td>\n",
       "      <td>2259</td>\n",
       "      <td>0</td>\n",
       "      <td>1500</td>\n",
       "      <td>425</td>\n",
       "      <td>895</td>\n",
       "    </tr>\n",
       "    <tr>\n",
       "      <th>21057</th>\n",
       "      <td>160000</td>\n",
       "      <td>1</td>\n",
       "      <td>2</td>\n",
       "      <td>2</td>\n",
       "      <td>38</td>\n",
       "      <td>4</td>\n",
       "      <td>3</td>\n",
       "      <td>2</td>\n",
       "      <td>2</td>\n",
       "      <td>3</td>\n",
       "      <td>...</td>\n",
       "      <td>99911</td>\n",
       "      <td>103928</td>\n",
       "      <td>101540</td>\n",
       "      <td>99587</td>\n",
       "      <td>0</td>\n",
       "      <td>5500</td>\n",
       "      <td>6700</td>\n",
       "      <td>0</td>\n",
       "      <td>27</td>\n",
       "      <td>2800</td>\n",
       "    </tr>\n",
       "    <tr>\n",
       "      <th>4454</th>\n",
       "      <td>30000</td>\n",
       "      <td>2</td>\n",
       "      <td>1</td>\n",
       "      <td>2</td>\n",
       "      <td>22</td>\n",
       "      <td>0</td>\n",
       "      <td>0</td>\n",
       "      <td>0</td>\n",
       "      <td>2</td>\n",
       "      <td>3</td>\n",
       "      <td>...</td>\n",
       "      <td>11238</td>\n",
       "      <td>9453</td>\n",
       "      <td>9022</td>\n",
       "      <td>8237</td>\n",
       "      <td>1190</td>\n",
       "      <td>1858</td>\n",
       "      <td>800</td>\n",
       "      <td>0</td>\n",
       "      <td>0</td>\n",
       "      <td>500</td>\n",
       "    </tr>\n",
       "    <tr>\n",
       "      <th>23709</th>\n",
       "      <td>20000</td>\n",
       "      <td>2</td>\n",
       "      <td>1</td>\n",
       "      <td>2</td>\n",
       "      <td>54</td>\n",
       "      <td>0</td>\n",
       "      <td>0</td>\n",
       "      <td>0</td>\n",
       "      <td>0</td>\n",
       "      <td>0</td>\n",
       "      <td>...</td>\n",
       "      <td>18298</td>\n",
       "      <td>18761</td>\n",
       "      <td>17781</td>\n",
       "      <td>10674</td>\n",
       "      <td>1568</td>\n",
       "      <td>1737</td>\n",
       "      <td>1200</td>\n",
       "      <td>0</td>\n",
       "      <td>0</td>\n",
       "      <td>0</td>\n",
       "    </tr>\n",
       "  </tbody>\n",
       "</table>\n",
       "<p>5 rows × 23 columns</p>\n",
       "</div>"
      ],
      "text/plain": [
       "       LIMIT_BAL  SEX  EDUCATION  MARRIAGE  AGE  PAY_0  PAY_2  PAY_3  PAY_4  \\\n",
       "26301     130000    2          3         2   35      0      0      0      0   \n",
       "24009      30000    1          1         2   24      0      0      0      2   \n",
       "21057     160000    1          2         2   38      4      3      2      2   \n",
       "4454       30000    2          1         2   22      0      0      0      2   \n",
       "23709      20000    2          1         2   54      0      0      0      0   \n",
       "\n",
       "       PAY_5  ...  BILL_AMT3  BILL_AMT4  BILL_AMT5  BILL_AMT6  PAY_AMT1  \\\n",
       "26301      0  ...       5771       8659      10503      11329      1000   \n",
       "24009      0  ...       6214       3311       4430        906      1440   \n",
       "21057      3  ...      99911     103928     101540      99587         0   \n",
       "4454       3  ...      11238       9453       9022       8237      1190   \n",
       "23709      0  ...      18298      18761      17781      10674      1568   \n",
       "\n",
       "       PAY_AMT2  PAY_AMT3  PAY_AMT4  PAY_AMT5  PAY_AMT6  \n",
       "26301      1000      3000      2000      1000      1000  \n",
       "24009      2259         0      1500       425       895  \n",
       "21057      5500      6700         0        27      2800  \n",
       "4454       1858       800         0         0       500  \n",
       "23709      1737      1200         0         0         0  \n",
       "\n",
       "[5 rows x 23 columns]"
      ]
     },
     "execution_count": 43,
     "metadata": {},
     "output_type": "execute_result"
    }
   ],
   "source": [
    "X_train.head()"
   ]
  },
  {
   "cell_type": "code",
   "execution_count": 23,
   "metadata": {
    "scrolled": true
   },
   "outputs": [],
   "source": [
    "arthur_model.from_dataframe(transformations(X_train), Stage.ModelPipelineInput)\n",
    "arthur_model.from_dataframe(Y_train, Stage.GroundTruth)\n",
    "arthur_model.set_positive_class(1)"
   ]
  },
  {
   "cell_type": "markdown",
   "metadata": {},
   "source": [
    "Before saving, you can review a model to make sure everything is correct."
   ]
  },
  {
   "cell_type": "code",
   "execution_count": 19,
   "metadata": {
    "scrolled": true
   },
   "outputs": [
    {
     "name": "stdout",
     "output_type": "stream",
     "text": [
      "name       stage                     data_type         categorical  is_unique  \n",
      "LIMIT_BAL  Stage.ModelPipelineInput  DataType.Float    False        True       \n",
      "SEX        Stage.ModelPipelineInput  DataType.Integer  True         False      \n",
      "EDUCATION  Stage.ModelPipelineInput  DataType.Integer  True         False      \n",
      "MARRIAGE   Stage.ModelPipelineInput  DataType.Integer  True         False      \n",
      "AGE        Stage.ModelPipelineInput  DataType.Integer  False        True       \n",
      "PAY_0      Stage.ModelPipelineInput  DataType.Integer  True         False      \n",
      "PAY_2      Stage.ModelPipelineInput  DataType.Integer  True         False      \n",
      "PAY_3      Stage.ModelPipelineInput  DataType.Integer  True         False      \n",
      "PAY_4      Stage.ModelPipelineInput  DataType.Integer  True         False      \n",
      "PAY_5      Stage.ModelPipelineInput  DataType.Integer  True         False      \n",
      "PAY_6      Stage.ModelPipelineInput  DataType.Integer  True         False      \n",
      "BILL_AMT1  Stage.ModelPipelineInput  DataType.Integer  False        True       \n",
      "BILL_AMT2  Stage.ModelPipelineInput  DataType.Integer  False        True       \n",
      "BILL_AMT3  Stage.ModelPipelineInput  DataType.Integer  False        True       \n",
      "BILL_AMT4  Stage.ModelPipelineInput  DataType.Integer  False        True       \n",
      "BILL_AMT5  Stage.ModelPipelineInput  DataType.Integer  False        True       \n",
      "BILL_AMT6  Stage.ModelPipelineInput  DataType.Integer  False        True       \n",
      "PAY_AMT1   Stage.ModelPipelineInput  DataType.Integer  False        True       \n",
      "PAY_AMT2   Stage.ModelPipelineInput  DataType.Integer  False        True       \n",
      "PAY_AMT3   Stage.ModelPipelineInput  DataType.Integer  False        True       \n",
      "PAY_AMT4   Stage.ModelPipelineInput  DataType.Integer  False        True       \n",
      "PAY_AMT5   Stage.ModelPipelineInput  DataType.Integer  False        True       \n",
      "PAY_AMT6   Stage.ModelPipelineInput  DataType.Integer  False        True       \n",
      "0          Stage.PredictedValue      DataType.Float    False        False      \n",
      "1          Stage.PredictedValue      DataType.Float    False        False      \n",
      "0          Stage.GroundTruth         DataType.Integer  False        False      \n",
      "1          Stage.GroundTruth         DataType.Integer  False        False      \n"
     ]
    }
   ],
   "source": [
    "arthur_model.review_model()"
   ]
  },
  {
   "cell_type": "code",
   "execution_count": 24,
   "metadata": {
    "scrolled": true
   },
   "outputs": [
    {
     "data": {
      "text/plain": [
       "'424cd60f-a1c5-4b92-8e78-300d8a30e9bb'"
      ]
     },
     "execution_count": 24,
     "metadata": {},
     "output_type": "execute_result"
    }
   ],
   "source": [
    "arthur_model.save()"
   ]
  },
  {
   "cell_type": "markdown",
   "metadata": {},
   "source": [
    "## Sending Inferences"
   ]
  },
  {
   "cell_type": "markdown",
   "metadata": {},
   "source": [
    "Load test data and trained model. Ket's familiarize ourselves with the data and the model.\n"
   ]
  },
  {
   "cell_type": "code",
   "execution_count": 27,
   "metadata": {
    "scrolled": true
   },
   "outputs": [],
   "source": [
    "X_test.shape\n",
    "sk_model = joblib.load(\"../fixtures/serialized_models/credit_model.pkl\")"
   ]
  },
  {
   "cell_type": "code",
   "execution_count": 42,
   "metadata": {},
   "outputs": [
    {
     "data": {
      "text/plain": [
       "RandomForestClassifier(bootstrap=True, class_weight=None, criterion='gini',\n",
       "                       max_depth=15, max_features='auto', max_leaf_nodes=None,\n",
       "                       min_impurity_decrease=0.0, min_impurity_split=None,\n",
       "                       min_samples_leaf=1, min_samples_split=2,\n",
       "                       min_weight_fraction_leaf=0.0, n_estimators=500,\n",
       "                       n_jobs=None, oob_score=False, random_state=None,\n",
       "                       verbose=0, warm_start=False)"
      ]
     },
     "execution_count": 42,
     "metadata": {},
     "output_type": "execute_result"
    }
   ],
   "source": [
    "sk_model"
   ]
  },
  {
   "cell_type": "code",
   "execution_count": 41,
   "metadata": {},
   "outputs": [
    {
     "data": {
      "text/plain": [
       "array([[0.87515184, 0.12484816]])"
      ]
     },
     "execution_count": 41,
     "metadata": {},
     "output_type": "execute_result"
    }
   ],
   "source": [
    "sk_model.predict_proba(X_train.iloc[0:1, :])"
   ]
  },
  {
   "cell_type": "markdown",
   "metadata": {},
   "source": [
    "To send inferences, we'll iterate through datapoints in a test set and send telemetry to Arthur."
   ]
  },
  {
   "cell_type": "code",
   "execution_count": null,
   "metadata": {},
   "outputs": [],
   "source": [
    "for i in range(X_test.shape[0]):\n",
    "    datarecord = transformations(X_test.iloc[i:i+1, :])\n",
    "    prediction = sk_model.predict_proba(transformations(datarecord))[0, 1]\n",
    "    ground_truth = Y_test.iloc[i]\n",
    "    ext_id = str(np.random.randint(1e9))\n",
    "\n",
    "\n",
    "    arthur_model.send_inference(\n",
    "        inference_timestamp=datetime.datetime.utcnow(),\n",
    "        external_id=ext_id,\n",
    "        model_pipeline_input=datarecord.to_dict(orient='records')[0],\n",
    "        predicted_value=arthur_model.binarize({1: prediction}),\n",
    "        ground_truth=arthur_model.one_hot_encode(ground_truth)\n",
    "    )\n",
    "    print(\"Sent inference with id {}\".format(ext_id))\n",
    "    time.sleep(0.001 * np.random.random())"
   ]
  }
 ],
 "metadata": {
  "kernelspec": {
   "display_name": "Python 3",
   "language": "python",
   "name": "python3"
  },
  "language_info": {
   "codemirror_mode": {
    "name": "ipython",
    "version": 3
   },
   "file_extension": ".py",
   "mimetype": "text/x-python",
   "name": "python",
   "nbconvert_exporter": "python",
   "pygments_lexer": "ipython3",
   "version": "3.7.6"
  }
 },
 "nbformat": 4,
 "nbformat_minor": 4
}
