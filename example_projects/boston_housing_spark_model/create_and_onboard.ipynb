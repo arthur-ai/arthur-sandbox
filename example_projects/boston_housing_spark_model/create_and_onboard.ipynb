{
 "cells": [
  {
   "cell_type": "code",
   "execution_count": 1,
   "metadata": {},
   "outputs": [],
   "source": [
    "from pyspark.sql import SparkSession, functions as F\n",
    "from pyspark.ml import Pipeline\n",
    "import pandas as pd"
   ]
  },
  {
   "cell_type": "code",
   "execution_count": 2,
   "metadata": {},
   "outputs": [],
   "source": [
    "spark = SparkSession.builder.appName('app').getOrCreate()"
   ]
  },
  {
   "cell_type": "markdown",
   "metadata": {},
   "source": [
    "## Create SparkML Model"
   ]
  },
  {
   "cell_type": "code",
   "execution_count": 3,
   "metadata": {},
   "outputs": [
    {
     "name": "stdout",
     "output_type": "stream",
     "text": [
      "root\n",
      " |-- crim: double (nullable = true)\n",
      " |-- zn: double (nullable = true)\n",
      " |-- indus: double (nullable = true)\n",
      " |-- chas: integer (nullable = true)\n",
      " |-- nox: double (nullable = true)\n",
      " |-- rm: double (nullable = true)\n",
      " |-- age: double (nullable = true)\n",
      " |-- dis: double (nullable = true)\n",
      " |-- rad: integer (nullable = true)\n",
      " |-- tax: integer (nullable = true)\n",
      " |-- ptratio: double (nullable = true)\n",
      " |-- bb: double (nullable = true)\n",
      " |-- lstat: double (nullable = true)\n",
      " |-- medv: double (nullable = true)\n",
      "\n"
     ]
    },
    {
     "data": {
      "text/plain": [
       "506"
      ]
     },
     "execution_count": 3,
     "metadata": {},
     "output_type": "execute_result"
    }
   ],
   "source": [
    "data = spark.read.csv('./data/boston_housing.csv', header=True, inferSchema=True)\n",
    "data.printSchema()\n",
    "data.count()"
   ]
  },
  {
   "cell_type": "code",
   "execution_count": 4,
   "metadata": {},
   "outputs": [],
   "source": [
    "train, test = data.randomSplit([0.7, 0.3])"
   ]
  },
  {
   "cell_type": "code",
   "execution_count": 5,
   "metadata": {},
   "outputs": [],
   "source": [
    "from pyspark.ml.feature import VectorAssembler\n",
    "\n",
    "feature_columns = data.columns[:-1] # here we omit the final column\n",
    "assembler = VectorAssembler(inputCols=feature_columns,outputCol=\"features\")"
   ]
  },
  {
   "cell_type": "code",
   "execution_count": 6,
   "metadata": {},
   "outputs": [],
   "source": [
    "from pyspark.ml.regression import LinearRegression\n",
    "\n",
    "algo = LinearRegression(featuresCol=\"features\", labelCol=\"medv\", maxIter=10, regParam=0.3, elasticNetParam=0.8)"
   ]
  },
  {
   "cell_type": "markdown",
   "metadata": {},
   "source": [
    "## Create and Save Model Pipeline"
   ]
  },
  {
   "cell_type": "code",
   "execution_count": 7,
   "metadata": {},
   "outputs": [
    {
     "name": "stdout",
     "output_type": "stream",
     "text": [
      "+------------------+\n",
      "|        prediction|\n",
      "+------------------+\n",
      "| 31.96544812305129|\n",
      "| 30.48653104413399|\n",
      "| 17.64777116159539|\n",
      "|31.588668432303127|\n",
      "| 41.70368572994125|\n",
      "|31.639110686320922|\n",
      "|26.305448554170525|\n",
      "|25.890322199404977|\n",
      "| 20.82280120313411|\n",
      "|26.232771861001403|\n",
      "| 25.53682610340246|\n",
      "| 29.72646774659044|\n",
      "|19.952750916394383|\n",
      "|31.095275660945667|\n",
      "|29.384591317369377|\n",
      "|26.153917196276012|\n",
      "|27.318130050039855|\n",
      "|  35.9186521802321|\n",
      "| 28.40004962565269|\n",
      "| 27.17441279733336|\n",
      "+------------------+\n",
      "only showing top 20 rows\n",
      "\n"
     ]
    }
   ],
   "source": [
    "pipeline = Pipeline(stages=[assembler, algo]) \n",
    "\n",
    "fitted_pipeline = pipeline.fit(train)\n",
    "\n",
    "fitted_pipeline.transform(test).select('prediction').show()"
   ]
  },
  {
   "cell_type": "code",
   "execution_count": 8,
   "metadata": {},
   "outputs": [],
   "source": [
    "fitted_pipeline.write().overwrite().save('./data/models/boton_housing_spark_model_pipeline')"
   ]
  },
  {
   "cell_type": "code",
   "execution_count": 9,
   "metadata": {},
   "outputs": [
    {
     "name": "stdout",
     "output_type": "stream",
     "text": [
      "+------------------+\n",
      "|        prediction|\n",
      "+------------------+\n",
      "| 31.96544812305129|\n",
      "| 30.48653104413399|\n",
      "| 17.64777116159539|\n",
      "|31.588668432303127|\n",
      "| 41.70368572994125|\n",
      "|31.639110686320922|\n",
      "|26.305448554170525|\n",
      "|25.890322199404977|\n",
      "| 20.82280120313411|\n",
      "|26.232771861001403|\n",
      "| 25.53682610340246|\n",
      "| 29.72646774659044|\n",
      "|19.952750916394383|\n",
      "|31.095275660945667|\n",
      "|29.384591317369377|\n",
      "|26.153917196276012|\n",
      "|27.318130050039855|\n",
      "|  35.9186521802321|\n",
      "| 28.40004962565269|\n",
      "| 27.17441279733336|\n",
      "+------------------+\n",
      "only showing top 20 rows\n",
      "\n"
     ]
    }
   ],
   "source": [
    "from pyspark.ml import PipelineModel\n",
    "\n",
    "loaded_model_pipeline = PipelineModel.load(\"./data/models/boton_housing_spark_model_pipeline\")\n",
    "\n",
    "loaded_model_pipeline.transform(test).select('prediction').show()"
   ]
  },
  {
   "cell_type": "markdown",
   "metadata": {},
   "source": [
    "## On-board to Arthur"
   ]
  },
  {
   "cell_type": "code",
   "execution_count": 10,
   "metadata": {},
   "outputs": [],
   "source": [
    "from arthurai import ArthurAI\n",
    "from arthurai.common.constants import InputType, OutputType, Stage, ValueType"
   ]
  },
  {
   "cell_type": "code",
   "execution_count": 11,
   "metadata": {},
   "outputs": [],
   "source": [
    "client = ArthurAI(url='app.arthur.ai', access_key='<YOUR-API-KEY>')"
   ]
  },
  {
   "cell_type": "code",
   "execution_count": 12,
   "metadata": {},
   "outputs": [
    {
     "data": {
      "text/html": [
       "<div>\n",
       "<style scoped>\n",
       "    .dataframe tbody tr th:only-of-type {\n",
       "        vertical-align: middle;\n",
       "    }\n",
       "\n",
       "    .dataframe tbody tr th {\n",
       "        vertical-align: top;\n",
       "    }\n",
       "\n",
       "    .dataframe thead th {\n",
       "        text-align: right;\n",
       "    }\n",
       "</style>\n",
       "<table border=\"1\" class=\"dataframe\">\n",
       "  <thead>\n",
       "    <tr style=\"text-align: right;\">\n",
       "      <th></th>\n",
       "      <th>crim</th>\n",
       "      <th>zn</th>\n",
       "      <th>indus</th>\n",
       "      <th>chas</th>\n",
       "      <th>nox</th>\n",
       "      <th>rm</th>\n",
       "      <th>age</th>\n",
       "      <th>dis</th>\n",
       "      <th>rad</th>\n",
       "      <th>tax</th>\n",
       "      <th>ptratio</th>\n",
       "      <th>bb</th>\n",
       "      <th>lstat</th>\n",
       "    </tr>\n",
       "  </thead>\n",
       "  <tbody>\n",
       "    <tr>\n",
       "      <th>0</th>\n",
       "      <td>0.00632</td>\n",
       "      <td>18.0</td>\n",
       "      <td>2.31</td>\n",
       "      <td>0</td>\n",
       "      <td>0.538</td>\n",
       "      <td>6.575</td>\n",
       "      <td>65.2</td>\n",
       "      <td>4.0900</td>\n",
       "      <td>1</td>\n",
       "      <td>296</td>\n",
       "      <td>15.3</td>\n",
       "      <td>396.90</td>\n",
       "      <td>4.98</td>\n",
       "    </tr>\n",
       "    <tr>\n",
       "      <th>1</th>\n",
       "      <td>0.00906</td>\n",
       "      <td>90.0</td>\n",
       "      <td>2.97</td>\n",
       "      <td>0</td>\n",
       "      <td>0.400</td>\n",
       "      <td>7.088</td>\n",
       "      <td>20.8</td>\n",
       "      <td>7.3073</td>\n",
       "      <td>1</td>\n",
       "      <td>285</td>\n",
       "      <td>15.3</td>\n",
       "      <td>394.72</td>\n",
       "      <td>7.85</td>\n",
       "    </tr>\n",
       "    <tr>\n",
       "      <th>2</th>\n",
       "      <td>0.01096</td>\n",
       "      <td>55.0</td>\n",
       "      <td>2.25</td>\n",
       "      <td>0</td>\n",
       "      <td>0.389</td>\n",
       "      <td>6.453</td>\n",
       "      <td>31.9</td>\n",
       "      <td>7.3073</td>\n",
       "      <td>1</td>\n",
       "      <td>300</td>\n",
       "      <td>15.3</td>\n",
       "      <td>394.72</td>\n",
       "      <td>8.23</td>\n",
       "    </tr>\n",
       "    <tr>\n",
       "      <th>3</th>\n",
       "      <td>0.01381</td>\n",
       "      <td>80.0</td>\n",
       "      <td>0.46</td>\n",
       "      <td>0</td>\n",
       "      <td>0.422</td>\n",
       "      <td>7.875</td>\n",
       "      <td>32.0</td>\n",
       "      <td>5.6484</td>\n",
       "      <td>4</td>\n",
       "      <td>255</td>\n",
       "      <td>14.4</td>\n",
       "      <td>394.23</td>\n",
       "      <td>2.97</td>\n",
       "    </tr>\n",
       "    <tr>\n",
       "      <th>4</th>\n",
       "      <td>0.01439</td>\n",
       "      <td>60.0</td>\n",
       "      <td>2.93</td>\n",
       "      <td>0</td>\n",
       "      <td>0.401</td>\n",
       "      <td>6.604</td>\n",
       "      <td>18.8</td>\n",
       "      <td>6.2196</td>\n",
       "      <td>1</td>\n",
       "      <td>265</td>\n",
       "      <td>15.6</td>\n",
       "      <td>376.70</td>\n",
       "      <td>4.38</td>\n",
       "    </tr>\n",
       "  </tbody>\n",
       "</table>\n",
       "</div>"
      ],
      "text/plain": [
       "      crim    zn  indus  chas    nox     rm   age     dis  rad  tax  ptratio  \\\n",
       "0  0.00632  18.0   2.31     0  0.538  6.575  65.2  4.0900    1  296     15.3   \n",
       "1  0.00906  90.0   2.97     0  0.400  7.088  20.8  7.3073    1  285     15.3   \n",
       "2  0.01096  55.0   2.25     0  0.389  6.453  31.9  7.3073    1  300     15.3   \n",
       "3  0.01381  80.0   0.46     0  0.422  7.875  32.0  5.6484    4  255     14.4   \n",
       "4  0.01439  60.0   2.93     0  0.401  6.604  18.8  6.2196    1  265     15.6   \n",
       "\n",
       "       bb  lstat  \n",
       "0  396.90   4.98  \n",
       "1  394.72   7.85  \n",
       "2  394.72   8.23  \n",
       "3  394.23   2.97  \n",
       "4  376.70   4.38  "
      ]
     },
     "execution_count": 12,
     "metadata": {},
     "output_type": "execute_result"
    }
   ],
   "source": [
    "# create a dataframe from the training data to on-board model metadata\n",
    "train_df = train.toPandas()\n",
    "train_df = train_df.drop('medv', axis=1)  # drop predicted value column to leave only pipeline input\n",
    "train_df.head()"
   ]
  },
  {
   "cell_type": "code",
   "execution_count": 13,
   "metadata": {},
   "outputs": [
    {
     "data": {
      "text/plain": [
       "{'medv_prediction': ArthurAttribute(name='medv_prediction', value_type='FLOAT', stage='PREDICTED_VALUE', id=None, label=None, position=0, categorical=False, min_range=None, max_range=None, monitor_for_bias=False, categories=None, bins=None, is_unique=False, is_positive_predicted_attribute=False, attribute_link='medv_gt'),\n",
       " 'medv_gt': ArthurAttribute(name='medv_gt', value_type='FLOAT', stage='GROUND_TRUTH', id=None, label=None, position=0, categorical=False, min_range=None, max_range=None, monitor_for_bias=False, categories=None, bins=None, is_unique=False, is_positive_predicted_attribute=False, attribute_link='medv_prediction')}"
      ]
     },
     "execution_count": 13,
     "metadata": {},
     "output_type": "execute_result"
    }
   ],
   "source": [
    "MODEL_METADATA = {\n",
    "    \"partner_model_id\": 'Spark Boston Housing Model',\n",
    "    \"description\": \"Spark Boston Housing Model\",\n",
    "    \"input_type\": InputType.Tabular,\n",
    "    \"model_type\": OutputType.Regression,\n",
    "    \"tags\": ['Spark'],\n",
    "    \"is_batch\": True\n",
    "}\n",
    "\n",
    "model = client.model(**MODEL_METADATA)\n",
    "model.from_dataframe(train_df[list(train_df.columns)[0:]], Stage.ModelPipelineInput)\n",
    "\n",
    "model.add_regression_output_attributes({\"medv_prediction\": \"medv_gt\"}, value_type=ValueType.Float)"
   ]
  },
  {
   "cell_type": "code",
   "execution_count": 14,
   "metadata": {},
   "outputs": [
    {
     "data": {
      "text/html": [
       "<div>\n",
       "<style scoped>\n",
       "    .dataframe tbody tr th:only-of-type {\n",
       "        vertical-align: middle;\n",
       "    }\n",
       "\n",
       "    .dataframe tbody tr th {\n",
       "        vertical-align: top;\n",
       "    }\n",
       "\n",
       "    .dataframe thead th {\n",
       "        text-align: right;\n",
       "    }\n",
       "</style>\n",
       "<table border=\"1\" class=\"dataframe\">\n",
       "  <thead>\n",
       "    <tr style=\"text-align: right;\">\n",
       "      <th></th>\n",
       "      <th>name</th>\n",
       "      <th>stage</th>\n",
       "      <th>value_type</th>\n",
       "      <th>categorical</th>\n",
       "      <th>is_unique</th>\n",
       "      <th>categories</th>\n",
       "      <th>bins</th>\n",
       "      <th>range</th>\n",
       "      <th>monitor_for_bias</th>\n",
       "    </tr>\n",
       "  </thead>\n",
       "  <tbody>\n",
       "    <tr>\n",
       "      <th>0</th>\n",
       "      <td>crim</td>\n",
       "      <td>PIPELINE_INPUT</td>\n",
       "      <td>FLOAT</td>\n",
       "      <td>False</td>\n",
       "      <td>True</td>\n",
       "      <td>[]</td>\n",
       "      <td>None</td>\n",
       "      <td>[0.00632, 73.5341]</td>\n",
       "      <td>False</td>\n",
       "    </tr>\n",
       "    <tr>\n",
       "      <th>1</th>\n",
       "      <td>zn</td>\n",
       "      <td>PIPELINE_INPUT</td>\n",
       "      <td>FLOAT</td>\n",
       "      <td>False</td>\n",
       "      <td>False</td>\n",
       "      <td>[]</td>\n",
       "      <td>None</td>\n",
       "      <td>[0.0, 95.0]</td>\n",
       "      <td>False</td>\n",
       "    </tr>\n",
       "    <tr>\n",
       "      <th>2</th>\n",
       "      <td>indus</td>\n",
       "      <td>PIPELINE_INPUT</td>\n",
       "      <td>FLOAT</td>\n",
       "      <td>False</td>\n",
       "      <td>False</td>\n",
       "      <td>[]</td>\n",
       "      <td>None</td>\n",
       "      <td>[0.46, 27.74]</td>\n",
       "      <td>False</td>\n",
       "    </tr>\n",
       "    <tr>\n",
       "      <th>3</th>\n",
       "      <td>chas</td>\n",
       "      <td>PIPELINE_INPUT</td>\n",
       "      <td>INTEGER</td>\n",
       "      <td>True</td>\n",
       "      <td>False</td>\n",
       "      <td>[{value: 0}, {value: 1}]</td>\n",
       "      <td>None</td>\n",
       "      <td>[None, None]</td>\n",
       "      <td>False</td>\n",
       "    </tr>\n",
       "    <tr>\n",
       "      <th>4</th>\n",
       "      <td>nox</td>\n",
       "      <td>PIPELINE_INPUT</td>\n",
       "      <td>FLOAT</td>\n",
       "      <td>False</td>\n",
       "      <td>False</td>\n",
       "      <td>[]</td>\n",
       "      <td>None</td>\n",
       "      <td>[0.389, 0.871]</td>\n",
       "      <td>False</td>\n",
       "    </tr>\n",
       "    <tr>\n",
       "      <th>5</th>\n",
       "      <td>rm</td>\n",
       "      <td>PIPELINE_INPUT</td>\n",
       "      <td>FLOAT</td>\n",
       "      <td>False</td>\n",
       "      <td>False</td>\n",
       "      <td>[]</td>\n",
       "      <td>None</td>\n",
       "      <td>[3.561, 8.78]</td>\n",
       "      <td>False</td>\n",
       "    </tr>\n",
       "    <tr>\n",
       "      <th>6</th>\n",
       "      <td>age</td>\n",
       "      <td>PIPELINE_INPUT</td>\n",
       "      <td>FLOAT</td>\n",
       "      <td>False</td>\n",
       "      <td>False</td>\n",
       "      <td>[]</td>\n",
       "      <td>None</td>\n",
       "      <td>[6.0, 100.0]</td>\n",
       "      <td>False</td>\n",
       "    </tr>\n",
       "    <tr>\n",
       "      <th>7</th>\n",
       "      <td>dis</td>\n",
       "      <td>PIPELINE_INPUT</td>\n",
       "      <td>FLOAT</td>\n",
       "      <td>False</td>\n",
       "      <td>False</td>\n",
       "      <td>[]</td>\n",
       "      <td>None</td>\n",
       "      <td>[1.1296, 12.1265]</td>\n",
       "      <td>False</td>\n",
       "    </tr>\n",
       "    <tr>\n",
       "      <th>8</th>\n",
       "      <td>rad</td>\n",
       "      <td>PIPELINE_INPUT</td>\n",
       "      <td>INTEGER</td>\n",
       "      <td>True</td>\n",
       "      <td>False</td>\n",
       "      <td>[{value: 1}, {value: 2}, {value: 3}, {value: 4...</td>\n",
       "      <td>None</td>\n",
       "      <td>[None, None]</td>\n",
       "      <td>False</td>\n",
       "    </tr>\n",
       "    <tr>\n",
       "      <th>9</th>\n",
       "      <td>tax</td>\n",
       "      <td>PIPELINE_INPUT</td>\n",
       "      <td>INTEGER</td>\n",
       "      <td>False</td>\n",
       "      <td>False</td>\n",
       "      <td>[]</td>\n",
       "      <td>None</td>\n",
       "      <td>[187, 711]</td>\n",
       "      <td>False</td>\n",
       "    </tr>\n",
       "    <tr>\n",
       "      <th>10</th>\n",
       "      <td>ptratio</td>\n",
       "      <td>PIPELINE_INPUT</td>\n",
       "      <td>FLOAT</td>\n",
       "      <td>False</td>\n",
       "      <td>False</td>\n",
       "      <td>[]</td>\n",
       "      <td>None</td>\n",
       "      <td>[12.6, 22.0]</td>\n",
       "      <td>False</td>\n",
       "    </tr>\n",
       "    <tr>\n",
       "      <th>11</th>\n",
       "      <td>bb</td>\n",
       "      <td>PIPELINE_INPUT</td>\n",
       "      <td>FLOAT</td>\n",
       "      <td>False</td>\n",
       "      <td>False</td>\n",
       "      <td>[]</td>\n",
       "      <td>None</td>\n",
       "      <td>[2.52, 396.9]</td>\n",
       "      <td>False</td>\n",
       "    </tr>\n",
       "    <tr>\n",
       "      <th>12</th>\n",
       "      <td>lstat</td>\n",
       "      <td>PIPELINE_INPUT</td>\n",
       "      <td>FLOAT</td>\n",
       "      <td>False</td>\n",
       "      <td>False</td>\n",
       "      <td>[]</td>\n",
       "      <td>None</td>\n",
       "      <td>[1.92, 37.97]</td>\n",
       "      <td>False</td>\n",
       "    </tr>\n",
       "    <tr>\n",
       "      <th>13</th>\n",
       "      <td>medv_gt</td>\n",
       "      <td>GROUND_TRUTH</td>\n",
       "      <td>FLOAT</td>\n",
       "      <td>False</td>\n",
       "      <td>False</td>\n",
       "      <td>[]</td>\n",
       "      <td>None</td>\n",
       "      <td>[None, None]</td>\n",
       "      <td>False</td>\n",
       "    </tr>\n",
       "    <tr>\n",
       "      <th>14</th>\n",
       "      <td>medv_prediction</td>\n",
       "      <td>PREDICTED_VALUE</td>\n",
       "      <td>FLOAT</td>\n",
       "      <td>False</td>\n",
       "      <td>False</td>\n",
       "      <td>[]</td>\n",
       "      <td>None</td>\n",
       "      <td>[None, None]</td>\n",
       "      <td>False</td>\n",
       "    </tr>\n",
       "  </tbody>\n",
       "</table>\n",
       "</div>"
      ],
      "text/plain": [
       "               name            stage value_type categorical is_unique  \\\n",
       "0              crim   PIPELINE_INPUT      FLOAT       False      True   \n",
       "1                zn   PIPELINE_INPUT      FLOAT       False     False   \n",
       "2             indus   PIPELINE_INPUT      FLOAT       False     False   \n",
       "3              chas   PIPELINE_INPUT    INTEGER        True     False   \n",
       "4               nox   PIPELINE_INPUT      FLOAT       False     False   \n",
       "5                rm   PIPELINE_INPUT      FLOAT       False     False   \n",
       "6               age   PIPELINE_INPUT      FLOAT       False     False   \n",
       "7               dis   PIPELINE_INPUT      FLOAT       False     False   \n",
       "8               rad   PIPELINE_INPUT    INTEGER        True     False   \n",
       "9               tax   PIPELINE_INPUT    INTEGER       False     False   \n",
       "10          ptratio   PIPELINE_INPUT      FLOAT       False     False   \n",
       "11               bb   PIPELINE_INPUT      FLOAT       False     False   \n",
       "12            lstat   PIPELINE_INPUT      FLOAT       False     False   \n",
       "13          medv_gt     GROUND_TRUTH      FLOAT       False     False   \n",
       "14  medv_prediction  PREDICTED_VALUE      FLOAT       False     False   \n",
       "\n",
       "                                           categories  bins  \\\n",
       "0                                                  []  None   \n",
       "1                                                  []  None   \n",
       "2                                                  []  None   \n",
       "3                            [{value: 0}, {value: 1}]  None   \n",
       "4                                                  []  None   \n",
       "5                                                  []  None   \n",
       "6                                                  []  None   \n",
       "7                                                  []  None   \n",
       "8   [{value: 1}, {value: 2}, {value: 3}, {value: 4...  None   \n",
       "9                                                  []  None   \n",
       "10                                                 []  None   \n",
       "11                                                 []  None   \n",
       "12                                                 []  None   \n",
       "13                                                 []  None   \n",
       "14                                                 []  None   \n",
       "\n",
       "                 range monitor_for_bias  \n",
       "0   [0.00632, 73.5341]            False  \n",
       "1          [0.0, 95.0]            False  \n",
       "2        [0.46, 27.74]            False  \n",
       "3         [None, None]            False  \n",
       "4       [0.389, 0.871]            False  \n",
       "5        [3.561, 8.78]            False  \n",
       "6         [6.0, 100.0]            False  \n",
       "7    [1.1296, 12.1265]            False  \n",
       "8         [None, None]            False  \n",
       "9           [187, 711]            False  \n",
       "10        [12.6, 22.0]            False  \n",
       "11       [2.52, 396.9]            False  \n",
       "12       [1.92, 37.97]            False  \n",
       "13        [None, None]            False  \n",
       "14        [None, None]            False  "
      ]
     },
     "metadata": {},
     "output_type": "display_data"
    }
   ],
   "source": [
    "# review the model to ensure all attributes were inferred correctly\n",
    "model.review()"
   ]
  },
  {
   "cell_type": "code",
   "execution_count": 15,
   "metadata": {},
   "outputs": [
    {
     "name": "stdout",
     "output_type": "stream",
     "text": [
      "[AttributeCategory(value='0', label=None), AttributeCategory(value='1', label=None)]\n",
      "[AttributeCategory(value='1', label=None), AttributeCategory(value='2', label=None), AttributeCategory(value='3', label=None), AttributeCategory(value='4', label=None), AttributeCategory(value='5', label=None), AttributeCategory(value='6', label=None), AttributeCategory(value='7', label=None), AttributeCategory(value='8', label=None), AttributeCategory(value='24', label=None)]\n"
     ]
    }
   ],
   "source": [
    "# chas and rad are categorical, check the inferred possible categories\n",
    "print(model.get_attribute('chas', Stage.ModelPipelineInput).categories)\n",
    "print(model.get_attribute('rad', Stage.ModelPipelineInput).categories)"
   ]
  },
  {
   "cell_type": "code",
   "execution_count": null,
   "metadata": {},
   "outputs": [],
   "source": [
    "model.save()"
   ]
  },
  {
   "cell_type": "code",
   "execution_count": 19,
   "metadata": {},
   "outputs": [],
   "source": [
    "# When using a spark model be sure to allocate at least 2 cpus to the model server.\n",
    "# This can scale as you change the configurations of the spark session in your entrypoint\n",
    "# script.\n",
    "model.enable_explainability(df=train_df, project_directory='.',\n",
    "                            user_predict_function_import_path='entrypoint',\n",
    "                            streaming_explainability_enabled=False,\n",
    "                            requirements_file='requirements.txt',\n",
    "                            python_version=\"3.7\",\n",
    "                            sdk_version='3.1.0',\n",
    "                            model_server_num_cpu='2')"
   ]
  },
  {
   "cell_type": "markdown",
   "metadata": {},
   "source": [
    "## Send an inference batch:"
   ]
  },
  {
   "cell_type": "code",
   "execution_count": 20,
   "metadata": {},
   "outputs": [
    {
     "name": "stdout",
     "output_type": "stream",
     "text": [
      "+-------+-----+-----+----+------+-----+----+------+---+---+-------+------+-----+-------+\n",
      "|   crim|   zn|indus|chas|   nox|   rm| age|   dis|rad|tax|ptratio|    bb|lstat|medv_gt|\n",
      "+-------+-----+-----+----+------+-----+----+------+---+---+-------+------+-----+-------+\n",
      "|0.01301| 35.0| 1.52|   0| 0.442|7.241|49.3|7.0379|  1|284|   15.5|394.74| 5.49|   32.7|\n",
      "|0.01311| 90.0| 1.22|   0| 0.403|7.249|21.9|8.6966|  5|226|   17.9|395.93| 4.81|   35.4|\n",
      "| 0.0136| 75.0|  4.0|   0|  0.41|5.888|47.6|7.3197|  3|469|   21.1| 396.9| 14.8|   18.9|\n",
      "|0.01432|100.0| 1.32|   0| 0.411|6.816|40.5|8.3248|  5|256|   15.1| 392.9| 3.95|   31.6|\n",
      "|0.01501| 90.0| 1.21|   1| 0.401|7.923|24.8| 5.885|  1|198|   13.6|395.52| 3.16|   50.0|\n",
      "|0.01778| 95.0| 1.47|   0| 0.403|7.135|13.9|7.6534|  3|402|   17.0| 384.3| 4.45|   32.9|\n",
      "| 0.0187| 85.0| 4.15|   0| 0.429|6.516|27.7|8.5353|  4|351|   17.9|392.43| 6.36|   23.1|\n",
      "|0.01951| 17.5| 1.38|   0|0.4161|7.104|59.5|9.2229|  3|216|   18.6|393.24| 8.05|   33.0|\n",
      "|0.01965| 80.0| 1.76|   0| 0.385| 6.23|31.5|9.0892|  1|241|   18.2| 341.6|12.93|   20.1|\n",
      "|0.02055| 85.0| 0.74|   0|  0.41|6.383|35.7|9.1876|  2|313|   17.3| 396.9| 5.77|   24.7|\n",
      "|0.02731|  0.0| 7.07|   0| 0.469|6.421|78.9|4.9671|  2|242|   17.8| 396.9| 9.14|   21.6|\n",
      "|0.02763| 75.0| 2.95|   0| 0.428|6.595|21.8|5.4011|  3|252|   18.3|395.63| 4.32|   30.8|\n",
      "|0.03041|  0.0| 5.19|   0| 0.515|5.895|59.6| 5.615|  5|224|   20.2|394.81|10.56|   18.5|\n",
      "|0.03502| 80.0| 4.95|   0| 0.411|6.861|27.9|5.1167|  4|245|   19.2| 396.9| 3.33|   28.5|\n",
      "|0.03615| 80.0| 4.95|   0| 0.411| 6.63|23.4|5.1167|  4|245|   19.2| 396.9|  4.7|   27.9|\n",
      "|0.03871| 52.5| 5.32|   0| 0.405|6.209|31.3|7.3172|  6|293|   16.6| 396.9| 7.14|   23.2|\n",
      "|0.03932|  0.0| 3.41|   0| 0.489|6.405|73.9|3.0921|  2|270|   17.8|393.55|  8.2|   22.0|\n",
      "|0.04011| 80.0| 1.52|   0| 0.404|7.287|34.1| 7.309|  2|329|   12.6| 396.9| 4.08|   33.3|\n",
      "|0.04113| 25.0| 4.86|   0| 0.426|6.727|33.5|5.4007|  4|281|   19.0| 396.9| 5.29|   28.0|\n",
      "|0.04203| 28.0|15.04|   0| 0.464|6.442|53.6|3.6659|  4|270|   18.2|395.01| 8.16|   22.9|\n",
      "+-------+-----+-----+----+------+-----+----+------+---+---+-------+------+-----+-------+\n",
      "only showing top 20 rows\n",
      "\n"
     ]
    }
   ],
   "source": [
    "# Ground truth must be sent separately when sending batch data, lets create a ground truth column to later break out\n",
    "# and upload. Also note the convention that the ground truth column must be names the same as its \n",
    "# corresponding predicted value attribute with \"_ground_truth\" appended\n",
    "test = test.withColumnRenamed(\"medv\",\"medv_gt\")\n",
    "test.show()"
   ]
  },
  {
   "cell_type": "code",
   "execution_count": 21,
   "metadata": {},
   "outputs": [
    {
     "name": "stdout",
     "output_type": "stream",
     "text": [
      "+-------+-----+-----+----+------+-----+----+------+---+---+-------+------+-----+-------+--------------------+------------------+--------------------+-------------------+\n",
      "|   crim|   zn|indus|chas|   nox|   rm| age|   dis|rad|tax|ptratio|    bb|lstat|medv_gt|            features|   medv_prediction|partner_inference_id|inference_timestamp|\n",
      "+-------+-----+-----+----+------+-----+----+------+---+---+-------+------+-----+-------+--------------------+------------------+--------------------+-------------------+\n",
      "|0.01301| 35.0| 1.52|   0| 0.442|7.241|49.3|7.0379|  1|284|   15.5|394.74| 5.49|   32.7|[0.01301,35.0,1.5...| 31.96544812305129|dc520798-c475-42f...|         1610561059|\n",
      "|0.01311| 90.0| 1.22|   0| 0.403|7.249|21.9|8.6966|  5|226|   17.9|395.93| 4.81|   35.4|[0.01311,90.0,1.2...| 30.48653104413399|aab565db-2d8c-4ae...|         1610561059|\n",
      "| 0.0136| 75.0|  4.0|   0|  0.41|5.888|47.6|7.3197|  3|469|   21.1| 396.9| 14.8|   18.9|[0.0136,75.0,4.0,...| 17.64777116159539|6660604f-92f4-418...|         1610561059|\n",
      "|0.01432|100.0| 1.32|   0| 0.411|6.816|40.5|8.3248|  5|256|   15.1| 392.9| 3.95|   31.6|[0.01432,100.0,1....|31.588668432303127|c652dcb4-fabe-427...|         1610561059|\n",
      "|0.01501| 90.0| 1.21|   1| 0.401|7.923|24.8| 5.885|  1|198|   13.6|395.52| 3.16|   50.0|[0.01501,90.0,1.2...| 41.70368572994125|6da253e3-803b-422...|         1610561059|\n",
      "|0.01778| 95.0| 1.47|   0| 0.403|7.135|13.9|7.6534|  3|402|   17.0| 384.3| 4.45|   32.9|[0.01778,95.0,1.4...|31.639110686320922|ca5dddf1-bf9e-44f...|         1610561059|\n",
      "| 0.0187| 85.0| 4.15|   0| 0.429|6.516|27.7|8.5353|  4|351|   17.9|392.43| 6.36|   23.1|[0.0187,85.0,4.15...|26.305448554170525|f219cd92-1210-42a...|         1610561059|\n",
      "|0.01951| 17.5| 1.38|   0|0.4161|7.104|59.5|9.2229|  3|216|   18.6|393.24| 8.05|   33.0|[0.01951,17.5,1.3...|25.890322199404977|eb0633cf-326f-4a6...|         1610561059|\n",
      "|0.01965| 80.0| 1.76|   0| 0.385| 6.23|31.5|9.0892|  1|241|   18.2| 341.6|12.93|   20.1|[0.01965,80.0,1.7...| 20.82280120313411|1f65ec86-6138-47e...|         1610561059|\n",
      "|0.02055| 85.0| 0.74|   0|  0.41|6.383|35.7|9.1876|  2|313|   17.3| 396.9| 5.77|   24.7|[0.02055,85.0,0.7...|26.232771861001403|7bb68382-4699-4cb...|         1610561059|\n",
      "|0.02731|  0.0| 7.07|   0| 0.469|6.421|78.9|4.9671|  2|242|   17.8| 396.9| 9.14|   21.6|[0.02731,0.0,7.07...| 25.53682610340246|9bf6dc72-f29f-4bf...|         1610561059|\n",
      "|0.02763| 75.0| 2.95|   0| 0.428|6.595|21.8|5.4011|  3|252|   18.3|395.63| 4.32|   30.8|[0.02763,75.0,2.9...| 29.72646774659044|a5196e30-0f3d-4b1...|         1610561059|\n",
      "|0.03041|  0.0| 5.19|   0| 0.515|5.895|59.6| 5.615|  5|224|   20.2|394.81|10.56|   18.5|[0.03041,0.0,5.19...|19.952750916394383|8caa522a-6da6-4e1...|         1610561059|\n",
      "|0.03502| 80.0| 4.95|   0| 0.411|6.861|27.9|5.1167|  4|245|   19.2| 396.9| 3.33|   28.5|[0.03502,80.0,4.9...|31.095275660945667|81d419fc-70d7-48e...|         1610561059|\n",
      "|0.03615| 80.0| 4.95|   0| 0.411| 6.63|23.4|5.1167|  4|245|   19.2| 396.9|  4.7|   27.9|[0.03615,80.0,4.9...|29.384591317369377|efee69f1-cb03-4d3...|         1610561059|\n",
      "|0.03871| 52.5| 5.32|   0| 0.405|6.209|31.3|7.3172|  6|293|   16.6| 396.9| 7.14|   23.2|[0.03871,52.5,5.3...|26.153917196276012|670f8bda-36c5-41b...|         1610561059|\n",
      "|0.03932|  0.0| 3.41|   0| 0.489|6.405|73.9|3.0921|  2|270|   17.8|393.55|  8.2|   22.0|[0.03932,0.0,3.41...|27.318130050039855|0c069373-c41c-477...|         1610561059|\n",
      "|0.04011| 80.0| 1.52|   0| 0.404|7.287|34.1| 7.309|  2|329|   12.6| 396.9| 4.08|   33.3|[0.04011,80.0,1.5...|  35.9186521802321|5d44a3bc-dc91-494...|         1610561059|\n",
      "|0.04113| 25.0| 4.86|   0| 0.426|6.727|33.5|5.4007|  4|281|   19.0| 396.9| 5.29|   28.0|[0.04113,25.0,4.8...| 28.40004962565269|ec7c4550-9bbd-4a7...|         1610561059|\n",
      "|0.04203| 28.0|15.04|   0| 0.464|6.442|53.6|3.6659|  4|270|   18.2|395.01| 8.16|   22.9|[0.04203,28.0,15....| 27.17441279733336|b5ae37ca-aae1-43f...|         1610561059|\n",
      "+-------+-----+-----+----+------+-----+----+------+---+---+-------+------+-----+-------+--------------------+------------------+--------------------+-------------------+\n",
      "only showing top 20 rows\n",
      "\n"
     ]
    }
   ],
   "source": [
    "import uuid\n",
    "from pyspark.sql.functions import udf\n",
    "from pyspark.sql.types import StringType\n",
    "# make predictions\n",
    "predicted_dataframe = loaded_model_pipeline.transform(test).withColumnRenamed(\"prediction\", \"medv_prediction\")\n",
    "# In order to send ground truth we must use an external id to match up rows in the ground truth dataframe and\n",
    "# inferences dataframe\n",
    "uuidUdf= udf(lambda : str(uuid.uuid4()), StringType())\n",
    "predicted_dataframe = (predicted_dataframe.withColumn('partner_inference_id', uuidUdf())\n",
    "                       .withColumn('inference_timestamp', F.unix_timestamp()))\n",
    "predicted_dataframe.show()"
   ]
  },
  {
   "cell_type": "code",
   "execution_count": 22,
   "metadata": {},
   "outputs": [],
   "source": [
    "# Now we separate out the inference input dataframe frame and the ground truth dataframe\n",
    "pipeline_input_attr_names = [attr.name for attr in model.get_attributes(Stage.ModelPipelineInput)]\n",
    "columns_to_select = pipeline_input_attr_names + ['medv_prediction', 'partner_inference_id', 'inference_timestamp']\n",
    "batch_inferences = predicted_dataframe.select(columns_to_select)"
   ]
  },
  {
   "cell_type": "code",
   "execution_count": 23,
   "metadata": {},
   "outputs": [],
   "source": [
    "# getting ground truth batch dataframe\n",
    "columns_to_select = ['medv_gt', 'partner_inference_id']\n",
    "ground_truth_batch = predicted_dataframe.select(columns_to_select).withColumn('ground_truth_timestamp', F.unix_timestamp())"
   ]
  },
  {
   "cell_type": "code",
   "execution_count": 24,
   "metadata": {},
   "outputs": [],
   "source": [
    "# write inferences dataframe to parquet file\n",
    "batch_inferences.write.mode('overwrite').parquet(\"./data/batch_inference_files/batch_inferences.parquet\")\n",
    "ground_truth_batch.write.mode('overwrite').parquet(\"./data/batch_ground_truth_files/ground_truth.parquet\")"
   ]
  },
  {
   "cell_type": "code",
   "execution_count": 25,
   "metadata": {},
   "outputs": [
    {
     "data": {
      "text/plain": [
       "({'counts': {'success': 153, 'failure': 0, 'total': 153}, 'failures': [[]]},\n",
       " {'dataset_close_result': 'success'})"
      ]
     },
     "execution_count": 25,
     "metadata": {},
     "output_type": "execute_result"
    }
   ],
   "source": [
    "model.send_batch_inferences(directory_path='./data/batch_inference_files/', batch_id=\"batch1\")"
   ]
  },
  {
   "cell_type": "code",
   "execution_count": 26,
   "metadata": {},
   "outputs": [
    {
     "data": {
      "text/plain": [
       "{'counts': {'success': 153, 'failure': 0, 'total': 153}, 'failures': [[]]}"
      ]
     },
     "execution_count": 26,
     "metadata": {},
     "output_type": "execute_result"
    }
   ],
   "source": [
    "model.send_batch_ground_truths(directory_path='./data/batch_ground_truth_files/')"
   ]
  },
  {
   "cell_type": "code",
   "execution_count": null,
   "metadata": {},
   "outputs": [],
   "source": []
  }
 ],
 "metadata": {
  "kernelspec": {
   "display_name": "Python 3",
   "language": "python",
   "name": "python3"
  },
  "language_info": {
   "codemirror_mode": {
    "name": "ipython",
    "version": 3
   },
   "file_extension": ".py",
   "mimetype": "text/x-python",
   "name": "python",
   "nbconvert_exporter": "python",
   "pygments_lexer": "ipython3",
   "version": "3.7.9"
  }
 },
 "nbformat": 4,
 "nbformat_minor": 4
}
