{
 "cells": [
  {
   "cell_type": "code",
   "execution_count": 1,
   "metadata": {},
   "outputs": [],
   "source": [
    "from pyspark.sql import SparkSession\n",
    "from pyspark.ml import Pipeline\n",
    "import pandas as pd"
   ]
  },
  {
   "cell_type": "code",
   "execution_count": 2,
   "metadata": {},
   "outputs": [],
   "source": [
    "spark = SparkSession.builder.appName('app').getOrCreate()"
   ]
  },
  {
   "cell_type": "markdown",
   "metadata": {},
   "source": [
    "## Create SparkML Model"
   ]
  },
  {
   "cell_type": "code",
   "execution_count": 3,
   "metadata": {},
   "outputs": [
    {
     "name": "stdout",
     "output_type": "stream",
     "text": [
      "root\n",
      " |-- crim: double (nullable = true)\n",
      " |-- zn: double (nullable = true)\n",
      " |-- indus: double (nullable = true)\n",
      " |-- chas: integer (nullable = true)\n",
      " |-- nox: double (nullable = true)\n",
      " |-- rm: double (nullable = true)\n",
      " |-- age: double (nullable = true)\n",
      " |-- dis: double (nullable = true)\n",
      " |-- rad: integer (nullable = true)\n",
      " |-- tax: integer (nullable = true)\n",
      " |-- ptratio: double (nullable = true)\n",
      " |-- b: double (nullable = true)\n",
      " |-- lstat: double (nullable = true)\n",
      " |-- medv: double (nullable = true)\n",
      "\n"
     ]
    },
    {
     "data": {
      "text/plain": [
       "506"
      ]
     },
     "execution_count": 3,
     "metadata": {},
     "output_type": "execute_result"
    }
   ],
   "source": [
    "data = spark.read.csv('./data/boston_housing.csv', header=True, inferSchema=True)\n",
    "data.printSchema()\n",
    "data.count()"
   ]
  },
  {
   "cell_type": "code",
   "execution_count": 4,
   "metadata": {},
   "outputs": [],
   "source": [
    "train, test = data.randomSplit([0.7, 0.3])"
   ]
  },
  {
   "cell_type": "code",
   "execution_count": 5,
   "metadata": {},
   "outputs": [],
   "source": [
    "from pyspark.ml.feature import VectorAssembler\n",
    "\n",
    "feature_columns = data.columns[:-1] # here we omit the final column\n",
    "assembler = VectorAssembler(inputCols=feature_columns,outputCol=\"features\")"
   ]
  },
  {
   "cell_type": "code",
   "execution_count": 6,
   "metadata": {},
   "outputs": [],
   "source": [
    "from pyspark.ml.regression import LinearRegression\n",
    "\n",
    "algo = LinearRegression(featuresCol=\"features\", labelCol=\"medv\", maxIter=10, regParam=0.3, elasticNetParam=0.8)"
   ]
  },
  {
   "cell_type": "markdown",
   "metadata": {},
   "source": [
    "## Create and Save Model Pipeline"
   ]
  },
  {
   "cell_type": "code",
   "execution_count": 7,
   "metadata": {},
   "outputs": [
    {
     "name": "stdout",
     "output_type": "stream",
     "text": [
      "+------------------+\n",
      "|        prediction|\n",
      "+------------------+\n",
      "| 37.78720362816466|\n",
      "|29.879873686483087|\n",
      "|25.849931584306574|\n",
      "|26.826383257489635|\n",
      "| 31.27114848618972|\n",
      "|26.124461013987293|\n",
      "|26.244138502778384|\n",
      "|29.863952431849345|\n",
      "| 27.29795362946603|\n",
      "| 37.38115182191164|\n",
      "|23.959925082092433|\n",
      "| 36.88136520458576|\n",
      "| 32.46044591915444|\n",
      "| 35.33705593923822|\n",
      "|24.349457513192164|\n",
      "| 25.98978696899479|\n",
      "| 31.98961846899827|\n",
      "|22.431738444828603|\n",
      "| 28.57496931837754|\n",
      "|21.645267684350816|\n",
      "+------------------+\n",
      "only showing top 20 rows\n",
      "\n"
     ]
    }
   ],
   "source": [
    "pipeline = Pipeline(stages=[assembler, algo]) \n",
    "\n",
    "fitted_pipeline = pipeline.fit(train)\n",
    "\n",
    "fitted_pipeline.transform(test).select('prediction').show()"
   ]
  },
  {
   "cell_type": "code",
   "execution_count": 8,
   "metadata": {},
   "outputs": [],
   "source": [
    "fitted_pipeline.write().overwrite().save('./data/models/boton_housing_spark_model_pipeline')"
   ]
  },
  {
   "cell_type": "code",
   "execution_count": 9,
   "metadata": {},
   "outputs": [
    {
     "name": "stdout",
     "output_type": "stream",
     "text": [
      "+------------------+\n",
      "|        prediction|\n",
      "+------------------+\n",
      "| 37.78720362816466|\n",
      "|29.879873686483087|\n",
      "|25.849931584306574|\n",
      "|26.826383257489635|\n",
      "| 31.27114848618972|\n",
      "|26.124461013987293|\n",
      "|26.244138502778384|\n",
      "|29.863952431849345|\n",
      "| 27.29795362946603|\n",
      "| 37.38115182191164|\n",
      "|23.959925082092433|\n",
      "| 36.88136520458576|\n",
      "| 32.46044591915444|\n",
      "| 35.33705593923822|\n",
      "|24.349457513192164|\n",
      "| 25.98978696899479|\n",
      "| 31.98961846899827|\n",
      "|22.431738444828603|\n",
      "| 28.57496931837754|\n",
      "|21.645267684350816|\n",
      "+------------------+\n",
      "only showing top 20 rows\n",
      "\n"
     ]
    }
   ],
   "source": [
    "from pyspark.ml import PipelineModel\n",
    "\n",
    "loaded_model_pipeline = PipelineModel.load(\"./data/models/boton_housing_spark_model_pipeline\")\n",
    "\n",
    "loaded_model_pipeline.transform(test).select('prediction').show()"
   ]
  },
  {
   "cell_type": "markdown",
   "metadata": {},
   "source": [
    "## On-board to Arthur"
   ]
  },
  {
   "cell_type": "code",
   "execution_count": 10,
   "metadata": {},
   "outputs": [],
   "source": [
    "from arthurai import ArthurAI\n",
    "from arthurai import ModelType, InputType, Stage, DataType, ArthurModel\n",
    "from arthurai.client.apiv2.arthur_explainer import ArthurExplainer"
   ]
  },
  {
   "cell_type": "code",
   "execution_count": 11,
   "metadata": {},
   "outputs": [],
   "source": [
    "client = ArthurAI(url='dashboard.arthur.ai', access_key='<access_key>')"
   ]
  },
  {
   "cell_type": "code",
   "execution_count": 12,
   "metadata": {},
   "outputs": [
    {
     "data": {
      "text/html": [
       "<div>\n",
       "<style scoped>\n",
       "    .dataframe tbody tr th:only-of-type {\n",
       "        vertical-align: middle;\n",
       "    }\n",
       "\n",
       "    .dataframe tbody tr th {\n",
       "        vertical-align: top;\n",
       "    }\n",
       "\n",
       "    .dataframe thead th {\n",
       "        text-align: right;\n",
       "    }\n",
       "</style>\n",
       "<table border=\"1\" class=\"dataframe\">\n",
       "  <thead>\n",
       "    <tr style=\"text-align: right;\">\n",
       "      <th></th>\n",
       "      <th>crim</th>\n",
       "      <th>zn</th>\n",
       "      <th>indus</th>\n",
       "      <th>chas</th>\n",
       "      <th>nox</th>\n",
       "      <th>rm</th>\n",
       "      <th>age</th>\n",
       "      <th>dis</th>\n",
       "      <th>rad</th>\n",
       "      <th>tax</th>\n",
       "      <th>ptratio</th>\n",
       "      <th>b</th>\n",
       "      <th>lstat</th>\n",
       "    </tr>\n",
       "  </thead>\n",
       "  <tbody>\n",
       "    <tr>\n",
       "      <th>0</th>\n",
       "      <td>0.00632</td>\n",
       "      <td>18.0</td>\n",
       "      <td>2.31</td>\n",
       "      <td>0</td>\n",
       "      <td>0.538</td>\n",
       "      <td>6.575</td>\n",
       "      <td>65.2</td>\n",
       "      <td>4.0900</td>\n",
       "      <td>1</td>\n",
       "      <td>296</td>\n",
       "      <td>15.3</td>\n",
       "      <td>396.90</td>\n",
       "      <td>4.98</td>\n",
       "    </tr>\n",
       "    <tr>\n",
       "      <th>1</th>\n",
       "      <td>0.00906</td>\n",
       "      <td>90.0</td>\n",
       "      <td>2.97</td>\n",
       "      <td>0</td>\n",
       "      <td>0.400</td>\n",
       "      <td>7.088</td>\n",
       "      <td>20.8</td>\n",
       "      <td>7.3073</td>\n",
       "      <td>1</td>\n",
       "      <td>285</td>\n",
       "      <td>15.3</td>\n",
       "      <td>394.72</td>\n",
       "      <td>7.85</td>\n",
       "    </tr>\n",
       "    <tr>\n",
       "      <th>2</th>\n",
       "      <td>0.01096</td>\n",
       "      <td>55.0</td>\n",
       "      <td>2.25</td>\n",
       "      <td>0</td>\n",
       "      <td>0.389</td>\n",
       "      <td>6.453</td>\n",
       "      <td>31.9</td>\n",
       "      <td>7.3073</td>\n",
       "      <td>1</td>\n",
       "      <td>300</td>\n",
       "      <td>15.3</td>\n",
       "      <td>394.72</td>\n",
       "      <td>8.23</td>\n",
       "    </tr>\n",
       "    <tr>\n",
       "      <th>3</th>\n",
       "      <td>0.01301</td>\n",
       "      <td>35.0</td>\n",
       "      <td>1.52</td>\n",
       "      <td>0</td>\n",
       "      <td>0.442</td>\n",
       "      <td>7.241</td>\n",
       "      <td>49.3</td>\n",
       "      <td>7.0379</td>\n",
       "      <td>1</td>\n",
       "      <td>284</td>\n",
       "      <td>15.5</td>\n",
       "      <td>394.74</td>\n",
       "      <td>5.49</td>\n",
       "    </tr>\n",
       "    <tr>\n",
       "      <th>4</th>\n",
       "      <td>0.01311</td>\n",
       "      <td>90.0</td>\n",
       "      <td>1.22</td>\n",
       "      <td>0</td>\n",
       "      <td>0.403</td>\n",
       "      <td>7.249</td>\n",
       "      <td>21.9</td>\n",
       "      <td>8.6966</td>\n",
       "      <td>5</td>\n",
       "      <td>226</td>\n",
       "      <td>17.9</td>\n",
       "      <td>395.93</td>\n",
       "      <td>4.81</td>\n",
       "    </tr>\n",
       "  </tbody>\n",
       "</table>\n",
       "</div>"
      ],
      "text/plain": [
       "      crim    zn  indus  chas    nox     rm   age     dis  rad  tax  ptratio  \\\n",
       "0  0.00632  18.0   2.31     0  0.538  6.575  65.2  4.0900    1  296     15.3   \n",
       "1  0.00906  90.0   2.97     0  0.400  7.088  20.8  7.3073    1  285     15.3   \n",
       "2  0.01096  55.0   2.25     0  0.389  6.453  31.9  7.3073    1  300     15.3   \n",
       "3  0.01301  35.0   1.52     0  0.442  7.241  49.3  7.0379    1  284     15.5   \n",
       "4  0.01311  90.0   1.22     0  0.403  7.249  21.9  8.6966    5  226     17.9   \n",
       "\n",
       "        b  lstat  \n",
       "0  396.90   4.98  \n",
       "1  394.72   7.85  \n",
       "2  394.72   8.23  \n",
       "3  394.74   5.49  \n",
       "4  395.93   4.81  "
      ]
     },
     "execution_count": 12,
     "metadata": {},
     "output_type": "execute_result"
    }
   ],
   "source": [
    "# create a dataframe from the training data to on-board model metadata\n",
    "train_df = train.toPandas()\n",
    "train_df = train_df.drop('medv', axis=1)  # drop predicted value column to leave only pipeline input\n",
    "train_df.head()"
   ]
  },
  {
   "cell_type": "code",
   "execution_count": 13,
   "metadata": {},
   "outputs": [],
   "source": [
    "MODEL_METADATA = {\n",
    "    \"name\": 'boston_housing_model_2',\n",
    "    \"description\": \"Spark Boston Housing Model\",\n",
    "    \"input_type\": InputType.Tabular,\n",
    "    \"model_type\": ModelType.Regression,\n",
    "    \"tags\": ['Spark'],\n",
    "    \"is_batch\": True\n",
    "}\n",
    "\n",
    "model = client.model(**MODEL_METADATA)\n",
    "model.from_dataframe(train_df[list(train_df.columns)[0:]], Stage.ModelPipelineInput)\n",
    "model.attribute(\n",
    "    name='medv',\n",
    "    stage=Stage.GroundTruth,\n",
    "    data_type=DataType.Float,\n",
    "    categorical=False,\n",
    "    position=0\n",
    ")"
   ]
  },
  {
   "cell_type": "code",
   "execution_count": 14,
   "metadata": {},
   "outputs": [
    {
     "name": "stdout",
     "output_type": "stream",
     "text": [
      "name               stage                     data_type         categorical  is_unique  \n",
      "crim               Stage.ModelPipelineInput  DataType.Float    False        True       \n",
      "zn                 Stage.ModelPipelineInput  DataType.Float    False        True       \n",
      "indus              Stage.ModelPipelineInput  DataType.Float    False        True       \n",
      "chas               Stage.ModelPipelineInput  DataType.Integer  True         False      \n",
      "nox                Stage.ModelPipelineInput  DataType.Float    False        True       \n",
      "rm                 Stage.ModelPipelineInput  DataType.Float    False        True       \n",
      "age                Stage.ModelPipelineInput  DataType.Float    False        True       \n",
      "dis                Stage.ModelPipelineInput  DataType.Float    False        True       \n",
      "rad                Stage.ModelPipelineInput  DataType.Integer  True         False      \n",
      "tax                Stage.ModelPipelineInput  DataType.Integer  False        True       \n",
      "ptratio            Stage.ModelPipelineInput  DataType.Float    False        True       \n",
      "b                  Stage.ModelPipelineInput  DataType.Float    False        True       \n",
      "lstat              Stage.ModelPipelineInput  DataType.Float    False        True       \n",
      "medv               Stage.PredictedValue      DataType.Float    False        False      \n",
      "medv_ground_truth  Stage.GroundTruth         DataType.Float    False        False      \n"
     ]
    }
   ],
   "source": [
    "# review the model to ensure all attributes were inferred correctly\n",
    "model.review_model()"
   ]
  },
  {
   "cell_type": "code",
   "execution_count": 15,
   "metadata": {},
   "outputs": [
    {
     "name": "stdout",
     "output_type": "stream",
     "text": [
      "name               stage                     data_type         categorical  is_unique  \n",
      "crim               Stage.ModelPipelineInput  DataType.Float    False        True       \n",
      "zn                 Stage.ModelPipelineInput  DataType.Float    False        True       \n",
      "indus              Stage.ModelPipelineInput  DataType.Float    False        True       \n",
      "chas               Stage.ModelPipelineInput  DataType.Integer  False        False      \n",
      "nox                Stage.ModelPipelineInput  DataType.Float    False        True       \n",
      "rm                 Stage.ModelPipelineInput  DataType.Float    False        True       \n",
      "age                Stage.ModelPipelineInput  DataType.Float    False        True       \n",
      "dis                Stage.ModelPipelineInput  DataType.Float    False        True       \n",
      "rad                Stage.ModelPipelineInput  DataType.Integer  False        False      \n",
      "tax                Stage.ModelPipelineInput  DataType.Integer  False        True       \n",
      "ptratio            Stage.ModelPipelineInput  DataType.Float    False        True       \n",
      "b                  Stage.ModelPipelineInput  DataType.Float    False        True       \n",
      "lstat              Stage.ModelPipelineInput  DataType.Float    False        True       \n",
      "medv               Stage.PredictedValue      DataType.Float    False        False      \n",
      "medv_ground_truth  Stage.GroundTruth         DataType.Float    False        False      \n"
     ]
    }
   ],
   "source": [
    "# chas and rad were inferred as categorical, lets change those to be continuous\n",
    "model.get_attribute('chas', Stage.ModelPipelineInput).set(categorical=False)\n",
    "model.get_attribute('rad', Stage.ModelPipelineInput).set(categorical=False)\n",
    "model.review_model()"
   ]
  },
  {
   "cell_type": "code",
   "execution_count": 17,
   "metadata": {},
   "outputs": [],
   "source": [
    "# When using a spark model be sure to allocate at least 2 cpus to the model server.\n",
    "# This can scale as you change the configurations of the spark session in your entrypoint\n",
    "# script.\n",
    "model.enable_explainability(df=train_df, project_directory='.',\n",
    "                            user_predict_function_import_path='entrypoint',\n",
    "                            requirements_file='requirements.txt',\n",
    "                            model_server_num_cpu='2')"
   ]
  },
  {
   "cell_type": "code",
   "execution_count": 18,
   "metadata": {},
   "outputs": [
    {
     "data": {
      "text/plain": [
       "'1565847e-2673-4552-9d80-13197fd7da60'"
      ]
     },
     "execution_count": 18,
     "metadata": {},
     "output_type": "execute_result"
    }
   ],
   "source": [
    "model.save()"
   ]
  },
  {
   "cell_type": "markdown",
   "metadata": {},
   "source": [
    "## Send an inference batch:"
   ]
  },
  {
   "cell_type": "code",
   "execution_count": 19,
   "metadata": {},
   "outputs": [
    {
     "name": "stdout",
     "output_type": "stream",
     "text": [
      "+-------+----+-----+----+------+-----+----+------+---+---+-------+------+-----+-----------------+\n",
      "|   crim|  zn|indus|chas|   nox|   rm| age|   dis|rad|tax|ptratio|     b|lstat|medv_ground_truth|\n",
      "+-------+----+-----+----+------+-----+----+------+---+---+-------+------+-----+-----------------+\n",
      "|0.01381|80.0| 0.46|   0| 0.422|7.875|32.0|5.6484|  4|255|   14.4|394.23| 2.97|             50.0|\n",
      "|0.01439|60.0| 2.93|   0| 0.401|6.604|18.8|6.2196|  1|265|   15.6| 376.7| 4.38|             29.1|\n",
      "| 0.0187|85.0| 4.15|   0| 0.429|6.516|27.7|8.5353|  4|351|   17.9|392.43| 6.36|             23.1|\n",
      "|0.02498| 0.0| 1.89|   0| 0.518| 6.54|59.7|6.2669|  1|422|   15.9|389.96| 8.65|             16.5|\n",
      "|0.02729| 0.0| 7.07|   0| 0.469|7.185|61.1|4.9671|  2|242|   17.8|392.83| 4.03|             34.7|\n",
      "|0.02875|28.0|15.04|   0| 0.464|6.211|28.9|3.6659|  4|270|   18.2|396.33| 6.21|             25.0|\n",
      "|0.02899|40.0| 1.25|   0| 0.429|6.939|34.5|8.7921|  1|335|   19.7|389.85| 5.89|             26.6|\n",
      "| 0.0315|95.0| 1.47|   0| 0.403|6.975|15.3|7.6534|  3|402|   17.0| 396.9| 4.56|             34.9|\n",
      "|0.03445|82.5| 2.03|   0| 0.415|6.162|38.4|  6.27|  2|348|   14.7|393.77| 7.43|             24.1|\n",
      "| 0.0351|95.0| 2.68|   0|0.4161|7.853|33.2| 5.118|  4|224|   14.7|392.78| 3.81|             48.5|\n",
      "|0.03551|25.0| 4.86|   0| 0.426|6.167|46.7|5.4007|  4|281|   19.0|390.64| 7.51|             22.9|\n",
      "|0.03578|20.0| 3.33|   0|0.4429| 7.82|64.5|4.6947|  5|216|   14.9|387.31| 3.76|             45.4|\n",
      "|0.03705|20.0| 3.33|   0|0.4429|6.968|37.2|5.2447|  5|216|   14.9|392.23| 4.59|             35.4|\n",
      "|0.04011|80.0| 1.52|   0| 0.404|7.287|34.1| 7.309|  2|329|   12.6| 396.9| 4.08|             33.3|\n",
      "|0.04294|28.0|15.04|   0| 0.464|6.249|77.3| 3.615|  4|270|   18.2| 396.9|10.59|             20.6|\n",
      "|0.04297|52.5| 5.32|   0| 0.405|6.565|22.9|7.3172|  6|293|   16.6|371.72| 9.51|             24.8|\n",
      "|0.04666|80.0| 1.52|   0| 0.404|7.107|36.6| 7.309|  2|329|   12.6|354.31| 8.61|             30.3|\n",
      "|0.04741| 0.0|11.93|   0| 0.573| 6.03|80.8| 2.505|  1|273|   21.0| 396.9| 7.88|             11.9|\n",
      "|0.04932|33.0| 2.18|   0| 0.472|6.849|70.3|3.1827|  7|222|   18.4| 396.9| 7.53|             28.2|\n",
      "|0.05188| 0.0| 4.49|   0| 0.449|6.015|45.1|4.4272|  3|247|   18.5|395.99|12.86|             22.5|\n",
      "+-------+----+-----+----+------+-----+----+------+---+---+-------+------+-----+-----------------+\n",
      "only showing top 20 rows\n",
      "\n"
     ]
    }
   ],
   "source": [
    "# lets make inferences on the test data and then send to Arthur\n",
    "# first lets rename the medv column to be the ground truth column\n",
    "test = test.withColumnRenamed(\"medv\",\"medv_ground_truth\")\n",
    "test.show()"
   ]
  },
  {
   "cell_type": "code",
   "execution_count": 20,
   "metadata": {},
   "outputs": [],
   "source": [
    "pipeline_input_attr_names = [attr.as_dict()['name'] \n",
    "                             for attr in model.get_attributes_for_stage(Stage.ModelPipelineInput)]"
   ]
  },
  {
   "cell_type": "code",
   "execution_count": 21,
   "metadata": {},
   "outputs": [
    {
     "name": "stdout",
     "output_type": "stream",
     "text": [
      "+-------+----+-----+----+------+-----+----+------+---+---+-------+------+-----+------------------+-----------------+\n",
      "|   crim|  zn|indus|chas|   nox|   rm| age|   dis|rad|tax|ptratio|     b|lstat|              medv|medv_ground_truth|\n",
      "+-------+----+-----+----+------+-----+----+------+---+---+-------+------+-----+------------------+-----------------+\n",
      "|0.01381|80.0| 0.46|   0| 0.422|7.875|32.0|5.6484|  4|255|   14.4|394.23| 2.97| 37.78720362816466|             50.0|\n",
      "|0.01439|60.0| 2.93|   0| 0.401|6.604|18.8|6.2196|  1|265|   15.6| 376.7| 4.38|29.879873686483087|             29.1|\n",
      "| 0.0187|85.0| 4.15|   0| 0.429|6.516|27.7|8.5353|  4|351|   17.9|392.43| 6.36|25.849931584306574|             23.1|\n",
      "|0.02498| 0.0| 1.89|   0| 0.518| 6.54|59.7|6.2669|  1|422|   15.9|389.96| 8.65|26.826383257489635|             16.5|\n",
      "|0.02729| 0.0| 7.07|   0| 0.469|7.185|61.1|4.9671|  2|242|   17.8|392.83| 4.03| 31.27114848618972|             34.7|\n",
      "|0.02875|28.0|15.04|   0| 0.464|6.211|28.9|3.6659|  4|270|   18.2|396.33| 6.21|26.124461013987293|             25.0|\n",
      "|0.02899|40.0| 1.25|   0| 0.429|6.939|34.5|8.7921|  1|335|   19.7|389.85| 5.89|26.244138502778384|             26.6|\n",
      "| 0.0315|95.0| 1.47|   0| 0.403|6.975|15.3|7.6534|  3|402|   17.0| 396.9| 4.56|29.863952431849345|             34.9|\n",
      "|0.03445|82.5| 2.03|   0| 0.415|6.162|38.4|  6.27|  2|348|   14.7|393.77| 7.43| 27.29795362946603|             24.1|\n",
      "| 0.0351|95.0| 2.68|   0|0.4161|7.853|33.2| 5.118|  4|224|   14.7|392.78| 3.81| 37.38115182191164|             48.5|\n",
      "|0.03551|25.0| 4.86|   0| 0.426|6.167|46.7|5.4007|  4|281|   19.0|390.64| 7.51|23.959925082092433|             22.9|\n",
      "|0.03578|20.0| 3.33|   0|0.4429| 7.82|64.5|4.6947|  5|216|   14.9|387.31| 3.76| 36.88136520458576|             45.4|\n",
      "|0.03705|20.0| 3.33|   0|0.4429|6.968|37.2|5.2447|  5|216|   14.9|392.23| 4.59| 32.46044591915444|             35.4|\n",
      "|0.04011|80.0| 1.52|   0| 0.404|7.287|34.1| 7.309|  2|329|   12.6| 396.9| 4.08| 35.33705593923822|             33.3|\n",
      "|0.04294|28.0|15.04|   0| 0.464|6.249|77.3| 3.615|  4|270|   18.2| 396.9|10.59|24.349457513192164|             20.6|\n",
      "|0.04297|52.5| 5.32|   0| 0.405|6.565|22.9|7.3172|  6|293|   16.6|371.72| 9.51| 25.98978696899479|             24.8|\n",
      "|0.04666|80.0| 1.52|   0| 0.404|7.107|36.6| 7.309|  2|329|   12.6|354.31| 8.61| 31.98961846899827|             30.3|\n",
      "|0.04741| 0.0|11.93|   0| 0.573| 6.03|80.8| 2.505|  1|273|   21.0| 396.9| 7.88|22.431738444828603|             11.9|\n",
      "|0.04932|33.0| 2.18|   0| 0.472|6.849|70.3|3.1827|  7|222|   18.4| 396.9| 7.53| 28.57496931837754|             28.2|\n",
      "|0.05188| 0.0| 4.49|   0| 0.449|6.015|45.1|4.4272|  3|247|   18.5|395.99|12.86|21.645267684350816|             22.5|\n",
      "+-------+----+-----+----+------+-----+----+------+---+---+-------+------+-----+------------------+-----------------+\n",
      "only showing top 20 rows\n",
      "\n"
     ]
    }
   ],
   "source": [
    "# make predictions\n",
    "predicted_dataframe = loaded_model_pipeline.transform(test).withColumnRenamed(\"prediction\", \"medv\")\n",
    "columns_to_select = pipeline_input_attr_names + ['medv', 'medv_ground_truth']\n",
    "predicted_dataframe = predicted_dataframe.select(columns_to_select)\n",
    "predicted_dataframe.show()"
   ]
  },
  {
   "cell_type": "code",
   "execution_count": 22,
   "metadata": {},
   "outputs": [
    {
     "data": {
      "text/html": [
       "<div>\n",
       "<style scoped>\n",
       "    .dataframe tbody tr th:only-of-type {\n",
       "        vertical-align: middle;\n",
       "    }\n",
       "\n",
       "    .dataframe tbody tr th {\n",
       "        vertical-align: top;\n",
       "    }\n",
       "\n",
       "    .dataframe thead th {\n",
       "        text-align: right;\n",
       "    }\n",
       "</style>\n",
       "<table border=\"1\" class=\"dataframe\">\n",
       "  <thead>\n",
       "    <tr style=\"text-align: right;\">\n",
       "      <th></th>\n",
       "      <th>crim</th>\n",
       "      <th>zn</th>\n",
       "      <th>indus</th>\n",
       "      <th>chas</th>\n",
       "      <th>nox</th>\n",
       "      <th>rm</th>\n",
       "      <th>age</th>\n",
       "      <th>dis</th>\n",
       "      <th>rad</th>\n",
       "      <th>tax</th>\n",
       "      <th>ptratio</th>\n",
       "      <th>b</th>\n",
       "      <th>lstat</th>\n",
       "      <th>medv</th>\n",
       "      <th>medv_ground_truth</th>\n",
       "    </tr>\n",
       "  </thead>\n",
       "  <tbody>\n",
       "    <tr>\n",
       "      <th>0</th>\n",
       "      <td>0.01381</td>\n",
       "      <td>80.0</td>\n",
       "      <td>0.46</td>\n",
       "      <td>0</td>\n",
       "      <td>0.422</td>\n",
       "      <td>7.875</td>\n",
       "      <td>32.0</td>\n",
       "      <td>5.6484</td>\n",
       "      <td>4</td>\n",
       "      <td>255</td>\n",
       "      <td>14.4</td>\n",
       "      <td>394.23</td>\n",
       "      <td>2.97</td>\n",
       "      <td>37.787204</td>\n",
       "      <td>50.0</td>\n",
       "    </tr>\n",
       "    <tr>\n",
       "      <th>1</th>\n",
       "      <td>0.01439</td>\n",
       "      <td>60.0</td>\n",
       "      <td>2.93</td>\n",
       "      <td>0</td>\n",
       "      <td>0.401</td>\n",
       "      <td>6.604</td>\n",
       "      <td>18.8</td>\n",
       "      <td>6.2196</td>\n",
       "      <td>1</td>\n",
       "      <td>265</td>\n",
       "      <td>15.6</td>\n",
       "      <td>376.70</td>\n",
       "      <td>4.38</td>\n",
       "      <td>29.879874</td>\n",
       "      <td>29.1</td>\n",
       "    </tr>\n",
       "    <tr>\n",
       "      <th>2</th>\n",
       "      <td>0.01870</td>\n",
       "      <td>85.0</td>\n",
       "      <td>4.15</td>\n",
       "      <td>0</td>\n",
       "      <td>0.429</td>\n",
       "      <td>6.516</td>\n",
       "      <td>27.7</td>\n",
       "      <td>8.5353</td>\n",
       "      <td>4</td>\n",
       "      <td>351</td>\n",
       "      <td>17.9</td>\n",
       "      <td>392.43</td>\n",
       "      <td>6.36</td>\n",
       "      <td>25.849932</td>\n",
       "      <td>23.1</td>\n",
       "    </tr>\n",
       "    <tr>\n",
       "      <th>3</th>\n",
       "      <td>0.02498</td>\n",
       "      <td>0.0</td>\n",
       "      <td>1.89</td>\n",
       "      <td>0</td>\n",
       "      <td>0.518</td>\n",
       "      <td>6.540</td>\n",
       "      <td>59.7</td>\n",
       "      <td>6.2669</td>\n",
       "      <td>1</td>\n",
       "      <td>422</td>\n",
       "      <td>15.9</td>\n",
       "      <td>389.96</td>\n",
       "      <td>8.65</td>\n",
       "      <td>26.826383</td>\n",
       "      <td>16.5</td>\n",
       "    </tr>\n",
       "    <tr>\n",
       "      <th>4</th>\n",
       "      <td>0.02729</td>\n",
       "      <td>0.0</td>\n",
       "      <td>7.07</td>\n",
       "      <td>0</td>\n",
       "      <td>0.469</td>\n",
       "      <td>7.185</td>\n",
       "      <td>61.1</td>\n",
       "      <td>4.9671</td>\n",
       "      <td>2</td>\n",
       "      <td>242</td>\n",
       "      <td>17.8</td>\n",
       "      <td>392.83</td>\n",
       "      <td>4.03</td>\n",
       "      <td>31.271148</td>\n",
       "      <td>34.7</td>\n",
       "    </tr>\n",
       "  </tbody>\n",
       "</table>\n",
       "</div>"
      ],
      "text/plain": [
       "      crim    zn  indus  chas    nox     rm   age     dis  rad  tax  ptratio  \\\n",
       "0  0.01381  80.0   0.46     0  0.422  7.875  32.0  5.6484    4  255     14.4   \n",
       "1  0.01439  60.0   2.93     0  0.401  6.604  18.8  6.2196    1  265     15.6   \n",
       "2  0.01870  85.0   4.15     0  0.429  6.516  27.7  8.5353    4  351     17.9   \n",
       "3  0.02498   0.0   1.89     0  0.518  6.540  59.7  6.2669    1  422     15.9   \n",
       "4  0.02729   0.0   7.07     0  0.469  7.185  61.1  4.9671    2  242     17.8   \n",
       "\n",
       "        b  lstat       medv  medv_ground_truth  \n",
       "0  394.23   2.97  37.787204               50.0  \n",
       "1  376.70   4.38  29.879874               29.1  \n",
       "2  392.43   6.36  25.849932               23.1  \n",
       "3  389.96   8.65  26.826383               16.5  \n",
       "4  392.83   4.03  31.271148               34.7  "
      ]
     },
     "execution_count": 22,
     "metadata": {},
     "output_type": "execute_result"
    }
   ],
   "source": [
    "import numpy as np\n",
    "import pandas as pd\n",
    "# write inferences dataframe to parquet file\n",
    "pd_df = predicted_dataframe.toPandas()\n",
    "pd_df.to_parquet(\"./data/batch_inference_files/inferences.parquet\")\n",
    "pd_df.head()"
   ]
  },
  {
   "cell_type": "code",
   "execution_count": 23,
   "metadata": {},
   "outputs": [],
   "source": [
    "model.send_batch_inferences(directory_path='./data/batch_inference_files/')"
   ]
  }
 ],
 "metadata": {
  "kernelspec": {
   "display_name": "Python 3",
   "language": "python",
   "name": "python3"
  },
  "language_info": {
   "codemirror_mode": {
    "name": "ipython",
    "version": 3
   },
   "file_extension": ".py",
   "mimetype": "text/x-python",
   "name": "python",
   "nbconvert_exporter": "python",
   "pygments_lexer": "ipython3",
   "version": "3.7.4"
  }
 },
 "nbformat": 4,
 "nbformat_minor": 4
}
